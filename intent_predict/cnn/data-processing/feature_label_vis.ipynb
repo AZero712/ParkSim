{
 "cells": [
  {
   "cell_type": "code",
   "execution_count": 1,
   "source": [
    "%load_ext autoreload\n",
    "%autoreload 2\n",
    "\n",
    "from dlp.dataset import Dataset\n",
    "from utils import PostProcessor"
   ],
   "outputs": [],
   "metadata": {}
  },
  {
   "cell_type": "code",
   "execution_count": 2,
   "source": [
    "# Load dataset\n",
    "ds = Dataset()\n",
    "ds.load('data/DJI_0012')\n",
    "\n",
    "processor = PostProcessor(ds)"
   ],
   "outputs": [],
   "metadata": {}
  },
  {
   "cell_type": "code",
   "execution_count": 3,
   "source": [
    "scene = ds.get('scene', ds.list_scenes()[0])\n",
    "frame = ds.get_future_frames(scene['first_frame'],timesteps=50)[-1]\n",
    "\n",
    "img_frame = processor.vis.plot_frame(frame['frame_token'])\n",
    "\n",
    "processor.gen_feature_label(frame['instances'][0], img_frame, display=True)"
   ],
   "outputs": [
    {
     "output_type": "display_data",
     "data": {
      "text/plain": [
       "<PIL.Image.Image image mode=RGB size=400x400 at 0x7F017E2C66A0>"
      ],
      "image/png": "[encoded data removed]"
     },
     "metadata": {}
    },
    {
     "output_type": "display_data",
     "data": {
      "text/plain": [
       "<PIL.Image.Image image mode=L size=100x100 at 0x7F017E2C66D0>"
      ],
      "image/png": "[encoded data removed]"
     },
     "metadata": {}
    },
    {
     "output_type": "execute_result",
     "data": {
      "text/plain": [
       "(<PIL.Image.Image image mode=RGB size=400x400 at 0x7F017E2C6970>,\n",
       " <PIL.Image.Image image mode=L size=100x100 at 0x7F017E2C66D0>)"
      ]
     },
     "metadata": {},
     "execution_count": 3
    }
   ],
   "metadata": {}
  },
  {
   "cell_type": "code",
   "execution_count": 4,
   "source": [
    "processor.gen_feature_label(frame['instances'][5], img_frame, display=True)"
   ],
   "outputs": [
    {
     "output_type": "display_data",
     "data": {
      "text/plain": [
       "<PIL.Image.Image image mode=RGB size=400x400 at 0x7F017E336F10>"
      ],
      "image/png": "[encoded data removed]"
     },
     "metadata": {}
    },
    {
     "output_type": "display_data",
     "data": {
      "text/plain": [
       "<PIL.Image.Image image mode=L size=100x100 at 0x7F017E2E07F0>"
      ],
      "image/png": "[encoded data removed]"
     },
     "metadata": {}
    },
    {
     "output_type": "execute_result",
     "data": {
      "text/plain": [
       "(<PIL.Image.Image image mode=RGB size=400x400 at 0x7F017E336E50>,\n",
       " <PIL.Image.Image image mode=L size=100x100 at 0x7F017E2E07F0>)"
      ]
     },
     "metadata": {},
     "execution_count": 4
    }
   ],
   "metadata": {}
  }
 ],
 "metadata": {
  "interpreter": {
   "hash": "997c503a7726a4c742655b825df73c317a663bedaf556e1fb98c048d7389b1a0"
  },
  "kernelspec": {
   "display_name": "Python 3.8.5 64-bit ('parking_dataset': virtualenvwrapper)",
   "name": "python3"
  },
  "language_info": {
   "name": "python",
   "version": ""
  }
 },
 "nbformat": 4,
 "nbformat_minor": 4
}