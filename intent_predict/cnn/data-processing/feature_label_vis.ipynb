{
 "cells": [
  {
   "cell_type": "code",
   "execution_count": 1,
   "source": [
    "%load_ext autoreload\n",
    "%autoreload 2\n",
    "\n",
    "from dlp.dataset import Dataset\n",
    "from utils import PostProcessor\n",
    "from pathlib import Path\n",
    "from PIL import Image, ImageDraw\n",
    "from IPython.display import display\n",
    "import numpy as np"
   ],
   "outputs": [],
   "metadata": {}
  },
  {
   "cell_type": "code",
   "execution_count": 2,
   "source": [
    "# Load dataset\n",
    "ds = Dataset()\n",
    "\n",
    "home_path = str(Path.home())\n",
    "ds.load(home_path + '/dlp-dataset/data/DJI_0012')\n",
    "\n",
    "processor = PostProcessor(ds)"
   ],
   "outputs": [],
   "metadata": {}
  },
  {
   "cell_type": "code",
   "execution_count": 3,
   "source": [
    "scene = ds.get('scene', ds.list_scenes()[0])\n",
    "frame = ds.get_future_frames(scene['first_frame'],timesteps=50)[-1]\n",
    "\n",
    "img_frame = processor.vis.plot_frame(frame['frame_token'])"
   ],
   "outputs": [],
   "metadata": {}
  },
  {
   "cell_type": "code",
   "execution_count": 4,
   "source": [
    "inst_token = frame['instances'][4]\n",
    "\n",
    "feature, label = processor.gen_feature_label(inst_token, img_frame)\n",
    "\n",
    "# ==== SVisualization ====\n",
    "keypoint = processor.compute_keypoint(inst_token)\n",
    "\n",
    "feature_with_label = feature.copy()\n",
    "draw = ImageDraw.Draw(feature_with_label)\n",
    "\n",
    "# Plot the intent label back to the feature img\n",
    "draw.ellipse((keypoint[0]-10, keypoint[1]-10, keypoint[0]+10, keypoint[1]+10), fill=(255, 128, 0))\n",
    "\n",
    "print(\"Feature image marked with intent label\")\n",
    "display(feature_with_label)\n",
    "\n",
    "# Show the label heat map\n",
    "print(\"Label Heatmap:\")\n",
    "label_heatmap = Image.fromarray(np.uint8(label[:, :, 0] * 255))\n",
    "display(label_heatmap)\n",
    "\n",
    "print(\"Offset: X = %.3f, Y = %.3f\" % (np.amax(label[:, :, 1]), np.amax(label[:, :, 2])))\n",
    "\n",
    "print(\"Offset x:\")\n",
    "offset_x_img = Image.fromarray(np.uint8(label[:, :, 1]*255))\n",
    "display(offset_x_img)\n",
    "\n",
    "print(\"Offset y:\")\n",
    "offset_y_img = Image.fromarray(np.uint8(label[:, :, 2]*255))\n",
    "display(offset_y_img)\n"
   ],
   "outputs": [
    {
     "output_type": "stream",
     "name": "stdout",
     "text": [
      "Feature image marked with intent label\n"
     ]
    },
    {
     "output_type": "display_data",
     "data": {
      "text/plain": [
       "<PIL.Image.Image image mode=RGB size=400x400 at 0x7F435AFC1F10>"
      ],
      "image/png": "[encoded data removed]"
     },
     "metadata": {}
    },
    {
     "output_type": "stream",
     "name": "stdout",
     "text": [
      "Label Heatmap:\n"
     ]
    },
    {
     "output_type": "display_data",
     "data": {
      "text/plain": [
       "<PIL.Image.Image image mode=L size=100x100 at 0x7F435AFC1E80>"
      ],
      "image/png": "[encoded data removed]"
     },
     "metadata": {}
    },
    {
     "output_type": "stream",
     "name": "stdout",
     "text": [
      "Offset: X = 0.000, Y = 0.500\n",
      "Offset x:\n"
     ]
    },
    {
     "output_type": "display_data",
     "data": {
      "text/plain": [
       "<PIL.Image.Image image mode=L size=100x100 at 0x7F435AFC1F40>"
      ],
      "image/png": "[encoded data removed]"
     },
     "metadata": {}
    },
    {
     "output_type": "stream",
     "name": "stdout",
     "text": [
      "Offset y:\n"
     ]
    },
    {
     "output_type": "display_data",
     "data": {
      "text/plain": [
       "<PIL.Image.Image image mode=L size=100x100 at 0x7F435AFBB130>"
      ],
      "image/png": "[encoded data removed]"
     },
     "metadata": {}
    }
   ],
   "metadata": {}
  }
 ],
 "metadata": {
  "interpreter": {
   "hash": "997c503a7726a4c742655b825df73c317a663bedaf556e1fb98c048d7389b1a0"
  },
  "kernelspec": {
   "display_name": "Python 3.8.5 64-bit ('parking_dataset': virtualenvwrapper)",
   "name": "python3"
  },
  "language_info": {
   "name": "python",
   "version": ""
  }
 },
 "nbformat": 4,
 "nbformat_minor": 4
}