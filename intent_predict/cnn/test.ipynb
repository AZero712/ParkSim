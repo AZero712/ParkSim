{
 "cells": [
  {
   "cell_type": "code",
   "execution_count": null,
   "metadata": {},
   "outputs": [],
   "source": [
    "import torch\n",
    "\n",
    "from network import IntentNet\n",
    "from utils import ImageDataset\n",
    "from torchvision import transforms"
   ]
  },
  {
   "cell_type": "code",
   "execution_count": null,
   "metadata": {},
   "outputs": [],
   "source": [
    "ds = ImageDataset('./../training_data/DJI_0013')\n",
    "\n",
    "model = IntentNet()\n",
    "\n",
    "transform = transforms.ToTensor()\n"
   ]
  },
  {
   "cell_type": "code",
   "execution_count": null,
   "metadata": {},
   "outputs": [],
   "source": [
    "model.eval()\n",
    "outputs = model(images)"
   ]
  }
 ],
 "metadata": {
  "interpreter": {
   "hash": "997c503a7726a4c742655b825df73c317a663bedaf556e1fb98c048d7389b1a0"
  },
  "kernelspec": {
   "display_name": "Python 3.8.5 64-bit ('parking_dataset': virtualenvwrapper)",
   "name": "python3"
  },
  "language_info": {
   "name": "python",
   "version": ""
  },
  "orig_nbformat": 4
 },
 "nbformat": 4,
 "nbformat_minor": 2
}