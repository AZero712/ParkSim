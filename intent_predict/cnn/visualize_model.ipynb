{
 "cells": [
  {
   "cell_type": "code",
   "execution_count": 1,
   "source": [
    "%load_ext autoreload\n",
    "%autoreload 2\n",
    "\n",
    "import torch\n",
    "from torchvision import transforms\n",
    "from torch.utils.data import DataLoader\n",
    "\n",
    "from utils import ImageDataset\n",
    "from network import SimpleCNN\n",
    "\n",
    "from IPython.display import display\n",
    "\n",
    "import numpy as np\n",
    "from PIL import Image"
   ],
   "outputs": [],
   "metadata": {}
  },
  {
   "cell_type": "markdown",
   "source": [
    "# Load Model"
   ],
   "metadata": {}
  },
  {
   "cell_type": "code",
   "execution_count": 2,
   "source": [
    "model_path = './models/simpleCNN_L3.249_07-12-2021_19-41-06.pth'\n",
    "\n",
    "model = SimpleCNN()\n",
    "model.load_state_dict(torch.load(model_path))\n",
    "model.eval()"
   ],
   "outputs": [
    {
     "output_type": "execute_result",
     "data": {
      "text/plain": [
       "SimpleCNN(\n",
       "  (layer1): Sequential(\n",
       "    (0): Conv2d(3, 6, kernel_size=(7, 7), stride=(2, 2), padding=(3, 3))\n",
       "    (1): ReLU(inplace=True)\n",
       "    (2): BatchNorm2d(6, eps=1e-05, momentum=0.1, affine=True, track_running_stats=True)\n",
       "  )\n",
       "  (layer2): Sequential(\n",
       "    (0): Conv2d(6, 16, kernel_size=(3, 3), stride=(1, 1), padding=(1, 1))\n",
       "    (1): ReLU(inplace=True)\n",
       "    (2): BatchNorm2d(16, eps=1e-05, momentum=0.1, affine=True, track_running_stats=True)\n",
       "  )\n",
       "  (layer3): Sequential(\n",
       "    (0): Conv2d(16, 3, kernel_size=(1, 1), stride=(1, 1))\n",
       "    (1): ReLU(inplace=True)\n",
       "    (2): BatchNorm2d(3, eps=1e-05, momentum=0.1, affine=True, track_running_stats=True)\n",
       "  )\n",
       "  (maxpool): MaxPool2d(kernel_size=2, stride=2, padding=0, dilation=1, ceil_mode=False)\n",
       "  (sigmoid): Sigmoid()\n",
       ")"
      ]
     },
     "metadata": {},
     "execution_count": 2
    }
   ],
   "metadata": {}
  },
  {
   "cell_type": "markdown",
   "source": [
    "# Load Data"
   ],
   "metadata": {}
  },
  {
   "cell_type": "code",
   "execution_count": 3,
   "source": [
    "input_transform = transforms.ToTensor()\n",
    "\n",
    "pred_trans = transforms.ToPILImage(mode='L')\n",
    "\n",
    "feature_trans = transforms.ToPILImage(mode='RGB')\n",
    "\n",
    "testset = ImageDataset('./data/DJI_0013', transform=input_transform, target_transform=input_transform)\n",
    "testloader = DataLoader(testset, batch_size=1, shuffle=False)\n",
    "\n",
    "dataiter = iter(testloader)"
   ],
   "outputs": [],
   "metadata": {}
  },
  {
   "cell_type": "code",
   "execution_count": 32,
   "source": [
    "inputs, labels = dataiter.next()\n",
    "\n",
    "preds = model(inputs)\n",
    "\n",
    "# Transform back to image\n",
    "\n",
    "pred_heatmap = pred_trans(preds[0, 0])\n",
    "feature_image = feature_trans(inputs[0])\n",
    "label_heatmap = Image.fromarray(np.floor(labels[0, 0].numpy() * 255).astype('uint8'))\n",
    "\n",
    "# Display\n",
    "print(\"Feature:\")\n",
    "display(feature_image)\n",
    "\n",
    "print(\"Label:\")\n",
    "display(label_heatmap)\n",
    "\n",
    "print(\"Pred\")\n",
    "display(pred_heatmap)"
   ],
   "outputs": [
    {
     "output_type": "stream",
     "name": "stdout",
     "text": [
      "Feature:\n"
     ]
    },
    {
     "output_type": "display_data",
     "data": {
      "text/plain": [
       "<PIL.Image.Image image mode=RGB size=400x400 at 0x7F8EFC24C3D0>"
      ],
      "image/png": "[encoded data removed]"
     },
     "metadata": {}
    },
    {
     "output_type": "stream",
     "name": "stdout",
     "text": [
      "Label:\n"
     ]
    },
    {
     "output_type": "display_data",
     "data": {
      "text/plain": [
       "<PIL.Image.Image image mode=L size=100x100 at 0x7F8EFC24CA00>"
      ],
      "image/png": "[encoded data removed]"
     },
     "metadata": {}
    },
    {
     "output_type": "stream",
     "name": "stdout",
     "text": [
      "Pred\n"
     ]
    },
    {
     "output_type": "display_data",
     "data": {
      "text/plain": [
       "<PIL.Image.Image image mode=L size=100x100 at 0x7F8DB3D6DA00>"
      ],
      "image/png": "[encoded data removed]"
     },
     "metadata": {}
    }
   ],
   "metadata": {}
  }
 ],
 "metadata": {
  "interpreter": {
   "hash": "997c503a7726a4c742655b825df73c317a663bedaf556e1fb98c048d7389b1a0"
  },
  "kernelspec": {
   "display_name": "Python 3.8.5 64-bit ('parking_dataset': virtualenvwrapper)",
   "name": "python3"
  },
  "language_info": {
   "name": "python",
   "version": ""
  },
  "orig_nbformat": 4
 },
 "nbformat": 4,
 "nbformat_minor": 2
}