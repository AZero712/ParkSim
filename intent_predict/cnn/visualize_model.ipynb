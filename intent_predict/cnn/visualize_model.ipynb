{
 "cells": [
  {
   "cell_type": "code",
   "execution_count": 1,
   "source": [
    "%load_ext autoreload\n",
    "%autoreload 2\n",
    "\n",
    "import torch\n",
    "from torchvision import transforms\n",
    "from torch.utils.data import DataLoader\n",
    "\n",
    "from utils import ImgDataset\n",
    "from network import SimpleCNN, KeypointNet\n",
    "\n",
    "from IPython.display import display\n",
    "\n",
    "import numpy as np\n",
    "from PIL import Image, ImageDraw"
   ],
   "outputs": [],
   "metadata": {}
  },
  {
   "cell_type": "markdown",
   "source": [
    "# Img2Img Model"
   ],
   "metadata": {}
  },
  {
   "cell_type": "code",
   "execution_count": 2,
   "source": [
    "model_path = './models/simpleCNN_L3.249_07-12-2021_19-41-06.pth'\n",
    "\n",
    "model = SimpleCNN()\n",
    "model.load_state_dict(torch.load(model_path))\n",
    "model.eval()"
   ],
   "outputs": [
    {
     "output_type": "execute_result",
     "data": {
      "text/plain": [
       "SimpleCNN(\n",
       "  (layer1): Sequential(\n",
       "    (0): Conv2d(3, 6, kernel_size=(7, 7), stride=(2, 2), padding=(3, 3))\n",
       "    (1): ReLU(inplace=True)\n",
       "    (2): BatchNorm2d(6, eps=1e-05, momentum=0.1, affine=True, track_running_stats=True)\n",
       "  )\n",
       "  (layer2): Sequential(\n",
       "    (0): Conv2d(6, 16, kernel_size=(3, 3), stride=(1, 1), padding=(1, 1))\n",
       "    (1): ReLU(inplace=True)\n",
       "    (2): BatchNorm2d(16, eps=1e-05, momentum=0.1, affine=True, track_running_stats=True)\n",
       "  )\n",
       "  (layer3): Sequential(\n",
       "    (0): Conv2d(16, 3, kernel_size=(1, 1), stride=(1, 1))\n",
       "    (1): ReLU(inplace=True)\n",
       "    (2): BatchNorm2d(3, eps=1e-05, momentum=0.1, affine=True, track_running_stats=True)\n",
       "  )\n",
       "  (maxpool): MaxPool2d(kernel_size=2, stride=2, padding=0, dilation=1, ceil_mode=False)\n",
       "  (sigmoid): Sigmoid()\n",
       ")"
      ]
     },
     "metadata": {},
     "execution_count": 2
    }
   ],
   "metadata": {}
  },
  {
   "cell_type": "markdown",
   "source": [
    "## Load Data"
   ],
   "metadata": {}
  },
  {
   "cell_type": "code",
   "execution_count": 3,
   "source": [
    "input_transform = transforms.ToTensor()\n",
    "\n",
    "pred_trans = transforms.ToPILImage(mode='L')\n",
    "\n",
    "feature_trans = transforms.ToPILImage(mode='RGB')\n",
    "\n",
    "testset = ImgDataset('./data/DJI_0013', transform=input_transform, target_transform=input_transform)\n",
    "testloader = DataLoader(testset, batch_size=1, shuffle=False)\n",
    "\n",
    "dataiter = iter(testloader)"
   ],
   "outputs": [],
   "metadata": {}
  },
  {
   "cell_type": "markdown",
   "source": [
    "## Predict"
   ],
   "metadata": {}
  },
  {
   "cell_type": "code",
   "execution_count": 32,
   "source": [
    "inputs, labels = dataiter.next()\n",
    "\n",
    "preds = model(inputs)\n",
    "\n",
    "# Transform back to image\n",
    "\n",
    "pred_heatmap = pred_trans(preds[0, 0])\n",
    "feature_image = feature_trans(inputs[0])\n",
    "label_heatmap = Image.fromarray(np.floor(labels[0, 0].numpy() * 255).astype('uint8'))\n",
    "\n",
    "# Display\n",
    "print(\"Feature:\")\n",
    "display(feature_image)\n",
    "\n",
    "print(\"Label:\")\n",
    "display(label_heatmap)\n",
    "\n",
    "print(\"Pred\")\n",
    "display(pred_heatmap)"
   ],
   "outputs": [
    {
     "output_type": "stream",
     "name": "stdout",
     "text": [
      "Feature:\n"
     ]
    },
    {
     "output_type": "display_data",
     "data": {
      "text/plain": [
       "<PIL.Image.Image image mode=RGB size=400x400 at 0x7F8EFC24C3D0>"
      ],
      "image/png": "[encoded data removed]"
     },
     "metadata": {}
    },
    {
     "output_type": "stream",
     "name": "stdout",
     "text": [
      "Label:\n"
     ]
    },
    {
     "output_type": "display_data",
     "data": {
      "text/plain": [
       "<PIL.Image.Image image mode=L size=100x100 at 0x7F8EFC24CA00>"
      ],
      "image/png": "[encoded data removed]"
     },
     "metadata": {}
    },
    {
     "output_type": "stream",
     "name": "stdout",
     "text": [
      "Pred\n"
     ]
    },
    {
     "output_type": "display_data",
     "data": {
      "text/plain": [
       "<PIL.Image.Image image mode=L size=100x100 at 0x7F8DB3D6DA00>"
      ],
      "image/png": "[encoded data removed]"
     },
     "metadata": {}
    }
   ],
   "metadata": {}
  },
  {
   "cell_type": "markdown",
   "source": [
    "# Img2Kpt Model"
   ],
   "metadata": {}
  },
  {
   "cell_type": "code",
   "execution_count": 2,
   "source": [
    "model_path = './models/KeypointNet_L0.019_07-27-2021_11-50-46.pth'\n",
    "\n",
    "model = KeypointNet()\n",
    "model.load_state_dict(torch.load(model_path))\n",
    "model.eval()"
   ],
   "outputs": [
    {
     "output_type": "execute_result",
     "data": {
      "text/plain": [
       "KeypointNet(\n",
       "  (layer1): Sequential(\n",
       "    (0): Conv2d(3, 6, kernel_size=(7, 7), stride=(2, 2), padding=(3, 3))\n",
       "    (1): ReLU(inplace=True)\n",
       "    (2): BatchNorm2d(6, eps=1e-05, momentum=0.1, affine=True, track_running_stats=True)\n",
       "    (3): MaxPool2d(kernel_size=2, stride=2, padding=0, dilation=1, ceil_mode=False)\n",
       "  )\n",
       "  (layer2): Sequential(\n",
       "    (0): Conv2d(6, 12, kernel_size=(3, 3), stride=(2, 2), padding=(1, 1))\n",
       "    (1): ReLU(inplace=True)\n",
       "    (2): BatchNorm2d(12, eps=1e-05, momentum=0.1, affine=True, track_running_stats=True)\n",
       "    (3): MaxPool2d(kernel_size=2, stride=2, padding=0, dilation=1, ceil_mode=False)\n",
       "  )\n",
       "  (layer3): Sequential(\n",
       "    (0): Conv2d(12, 16, kernel_size=(3, 3), stride=(2, 2))\n",
       "    (1): ReLU(inplace=True)\n",
       "    (2): BatchNorm2d(16, eps=1e-05, momentum=0.1, affine=True, track_running_stats=True)\n",
       "    (3): MaxPool2d(kernel_size=2, stride=2, padding=0, dilation=1, ceil_mode=False)\n",
       "  )\n",
       "  (fc1): Sequential(\n",
       "    (0): Linear(in_features=576, out_features=120, bias=True)\n",
       "    (1): ReLU(inplace=True)\n",
       "  )\n",
       "  (fc2): Sequential(\n",
       "    (0): Linear(in_features=120, out_features=30, bias=True)\n",
       "    (1): ReLU(inplace=True)\n",
       "  )\n",
       "  (fc3): Sequential(\n",
       "    (0): Linear(in_features=30, out_features=2, bias=True)\n",
       "    (1): Sigmoid()\n",
       "  )\n",
       ")"
      ]
     },
     "metadata": {},
     "execution_count": 2
    }
   ],
   "metadata": {}
  },
  {
   "cell_type": "markdown",
   "source": [
    "## Load Data"
   ],
   "metadata": {}
  },
  {
   "cell_type": "code",
   "execution_count": 7,
   "source": [
    "input_transform = transforms.ToTensor()\n",
    "\n",
    "feature_trans = transforms.ToPILImage(mode='RGB')\n",
    "\n",
    "def kpt_normalize(keypoint):\n",
    "    return torch.from_numpy(keypoint / 400).float()\n",
    "\n",
    "testset = ImgDataset('./data/DJI_0012', transform=input_transform, target_transform=kpt_normalize)\n",
    "testloader = DataLoader(testset, batch_size=1, shuffle=False)\n",
    "\n",
    "dataiter = iter(testloader)"
   ],
   "outputs": [],
   "metadata": {}
  },
  {
   "cell_type": "markdown",
   "source": [
    "## Predict"
   ],
   "metadata": {}
  },
  {
   "cell_type": "code",
   "execution_count": 24,
   "source": [
    "inputs, labels = dataiter.next()\n",
    "\n",
    "preds = model(inputs)\n",
    "\n",
    "feature_img = feature_trans(inputs[0])\n",
    "\n",
    "label_img = feature_img.copy()\n",
    "\n",
    "label_draw = ImageDraw.Draw(label_img)\n",
    "label_loc = (labels[0] * 400).int()\n",
    "label_draw.ellipse((label_loc[0]-10, label_loc[1]-10, label_loc[0]+10, label_loc[1]+10), fill=(255, 128, 0))\n",
    "\n",
    "\n",
    "pred_img = feature_img.copy()\n",
    "\n",
    "pred_draw = ImageDraw.Draw(pred_img)\n",
    "pred_loc = (preds[0] * 400).int()\n",
    "pred_draw.ellipse((pred_loc[0]-10, pred_loc[1]-10, pred_loc[0]+10, pred_loc[1]+10), fill=(255, 128, 0))\n",
    "\n",
    "print(\"Label:\", labels)\n",
    "\n",
    "display(label_img)\n",
    "\n",
    "print(\"Pred:\", preds)\n",
    "\n",
    "display(pred_img)"
   ],
   "outputs": [
    {
     "output_type": "stream",
     "name": "stdout",
     "text": [
      "Label: tensor([[0.5150, 0.4975]])\n"
     ]
    },
    {
     "output_type": "display_data",
     "data": {
      "text/plain": [
       "<PIL.Image.Image image mode=RGB size=400x400 at 0x7FB66DD08310>"
      ],
      "image/png": "[encoded data removed]"
     },
     "metadata": {}
    },
    {
     "output_type": "stream",
     "name": "stdout",
     "text": [
      "Pred: tensor([[0.5987, 0.5716]], grad_fn=<SigmoidBackward>)\n"
     ]
    },
    {
     "output_type": "display_data",
     "data": {
      "text/plain": [
       "<PIL.Image.Image image mode=RGB size=400x400 at 0x7FB66DD08190>"
      ],
      "image/png": "[encoded data removed]"
     },
     "metadata": {}
    }
   ],
   "metadata": {}
  },
  {
   "cell_type": "code",
   "execution_count": null,
   "source": [],
   "outputs": [],
   "metadata": {}
  }
 ],
 "metadata": {
  "interpreter": {
   "hash": "939e54f63ce5d9da2f6cdf53bc8804e48e5163cad08e7442df1ae739c5da6183"
  },
  "kernelspec": {
   "name": "python3",
   "display_name": "Python 3.8.10 64-bit ('park-sim': virtualenvwrapper)"
  },
  "language_info": {
   "name": "python",
   "version": "3.8.10",
   "mimetype": "text/x-python",
   "codemirror_mode": {
    "name": "ipython",
    "version": 3
   },
   "pygments_lexer": "ipython3",
   "nbconvert_exporter": "python",
   "file_extension": ".py"
  },
  "orig_nbformat": 4
 },
 "nbformat": 4,
 "nbformat_minor": 2
}