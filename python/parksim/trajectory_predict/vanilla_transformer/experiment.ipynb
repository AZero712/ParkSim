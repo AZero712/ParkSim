{
 "cells": [
  {
   "cell_type": "code",
   "execution_count": 1,
   "metadata": {},
   "outputs": [],
   "source": [
    "from network import Transformer\n",
    "import torch\n",
    "import numpy as np\n",
    "import matplotlib.pyplot as plt\n",
    "from torch import nn"
   ]
  },
  {
   "cell_type": "code",
   "execution_count": 2,
   "metadata": {},
   "outputs": [
    {
     "data": {
      "text/plain": [
       "array([[ 0.00000000e+00,  0.00000000e+00],\n",
       "       [ 1.00100100e+00,  2.00172340e-02],\n",
       "       [ 2.00200200e+00,  4.00177531e-02],\n",
       "       ...,\n",
       "       [ 9.97997998e+02, -1.20072266e+01],\n",
       "       [ 9.98998999e+02, -1.17513354e+01],\n",
       "       [ 1.00000000e+03, -1.14916334e+01]])"
      ]
     },
     "execution_count": 2,
     "metadata": {},
     "output_type": "execute_result"
    }
   ],
   "source": [
    "def get_cosine_data():\n",
    "    t_vals = np.linspace(0, 1000, 1000)\n",
    "    return np.vstack((t_vals, np.cos(1/60 * t_vals) * t_vals / 50)).T\n",
    "\n",
    "points = get_cosine_data()\n",
    "points"
   ]
  },
  {
   "cell_type": "code",
   "execution_count": 3,
   "metadata": {},
   "outputs": [
    {
     "data": {
      "text/plain": [
       "[<matplotlib.lines.Line2D at 0x2673fe2ad90>]"
      ]
     },
     "execution_count": 3,
     "metadata": {},
     "output_type": "execute_result"
    },
    {
     "data": {
      "image/png": "[encoded data removed]",
      "text/plain": [
       "<Figure size 432x288 with 1 Axes>"
      ]
     },
     "metadata": {
      "needs_background": "light"
     },
     "output_type": "display_data"
    }
   ],
   "source": [
    "plt.plot(points[:,0], points[:,1])"
   ]
  },
  {
   "cell_type": "code",
   "execution_count": 4,
   "metadata": {},
   "outputs": [],
   "source": [
    "def get_random_sequence(data, in_seq_len, out_seq_len):\n",
    "    data_start_index = np.random.randint(0, data.shape[0] - in_seq_len - out_seq_len + 1)\n",
    "    in_seq, out_seq = data[data_start_index:data_start_index+in_seq_len].copy(), data[data_start_index+in_seq_len-1:data_start_index+in_seq_len+out_seq_len].copy()\n",
    "    right_most = in_seq[-1].copy()\n",
    "    in_seq -= right_most\n",
    "    out_seq -= right_most\n",
    "    in_seq[:, 0] /= 6\n",
    "    out_seq[:, 0] /= 6\n",
    "    in_seq[:, 1] /= 20\n",
    "    out_seq[:, 1] /= 20\n",
    "    return in_seq, out_seq[:-1], out_seq[1:]\n",
    "\n",
    "def get_random_batch(data, in_seq_len, out_seq_len, batch_size):\n",
    "    in_seq_dat, out_seq_dat, label_seq_dat = [], [], []\n",
    "    for _ in range(batch_size):\n",
    "        in_cur, out_cur, label_cur = get_random_sequence(data, in_seq_len, out_seq_len)\n",
    "        in_seq_dat.append(in_cur)\n",
    "        out_seq_dat.append(out_cur)\n",
    "        label_seq_dat.append(label_cur)\n",
    "    return np.array(in_seq_dat), np.array(out_seq_dat), np.array(label_seq_dat)\n"
   ]
  },
  {
   "cell_type": "code",
   "execution_count": 5,
   "metadata": {},
   "outputs": [
    {
     "data": {
      "text/plain": [
       "(array([[-5.00500501e-01,  7.25792369e-04],\n",
       "        [-3.33667000e-01,  4.21889139e-04],\n",
       "        [-1.66833500e-01,  1.79754635e-04],\n",
       "        [ 0.00000000e+00,  0.00000000e+00]]),\n",
       " array([[ 0.00000000e+00,  0.00000000e+00],\n",
       "        [ 1.66833500e-01, -1.16783088e-04],\n",
       "        [ 3.33667000e-01, -1.70022736e-04],\n",
       "        [ 5.00500501e-01, -1.59167142e-04],\n",
       "        [ 6.67334001e-01, -8.36848987e-05],\n",
       "        [ 8.34167501e-01,  5.69347097e-05]]),\n",
       " array([[ 1.66833500e-01, -1.16783088e-04],\n",
       "        [ 3.33667000e-01, -1.70022736e-04],\n",
       "        [ 5.00500501e-01, -1.59167142e-04],\n",
       "        [ 6.67334001e-01, -8.36848987e-05],\n",
       "        [ 8.34167501e-01,  5.69347097e-05],\n",
       "        [ 1.00100100e+00,  2.63181417e-04]]))"
      ]
     },
     "execution_count": 5,
     "metadata": {},
     "output_type": "execute_result"
    }
   ],
   "source": [
    "get_random_sequence(points.copy(), 4, 6)"
   ]
  },
  {
   "cell_type": "code",
   "execution_count": 6,
   "metadata": {},
   "outputs": [
    {
     "data": {
      "text/plain": [
       "array([[[ 0.1668335 , -0.01428993],\n",
       "        [ 0.333667  , -0.02857468],\n",
       "        [ 0.5005005 , -0.04285018],\n",
       "        [ 0.667334  , -0.05711236],\n",
       "        [ 0.8341675 , -0.07135712],\n",
       "        [ 1.001001  , -0.0855804 ]],\n",
       "\n",
       "       [[ 0.1668335 ,  0.00337767],\n",
       "        [ 0.333667  ,  0.00668018],\n",
       "        [ 0.5005005 ,  0.0099061 ],\n",
       "        [ 0.667334  ,  0.01305404],\n",
       "        [ 0.8341675 ,  0.01612258],\n",
       "        [ 1.001001  ,  0.01911037]],\n",
       "\n",
       "       [[ 0.1668335 ,  0.00446292],\n",
       "        [ 0.333667  ,  0.00908446],\n",
       "        [ 0.5005005 ,  0.01386379],\n",
       "        [ 0.667334  ,  0.01880005],\n",
       "        [ 0.8341675 ,  0.02389231],\n",
       "        [ 1.001001  ,  0.02913962]],\n",
       "\n",
       "       [[ 0.1668335 , -0.01228679],\n",
       "        [ 0.333667  , -0.02469178],\n",
       "        [ 0.5005005 , -0.0372117 ],\n",
       "        [ 0.667334  , -0.04984328],\n",
       "        [ 0.8341675 , -0.0625832 ],\n",
       "        [ 1.001001  , -0.07542808]],\n",
       "\n",
       "       [[ 0.1668335 ,  0.00119451],\n",
       "        [ 0.333667  ,  0.00255368],\n",
       "        [ 0.5005005 ,  0.00407766],\n",
       "        [ 0.667334  ,  0.00576658],\n",
       "        [ 0.8341675 ,  0.0076205 ],\n",
       "        [ 1.001001  ,  0.00963944]]])"
      ]
     },
     "execution_count": 6,
     "metadata": {},
     "output_type": "execute_result"
    }
   ],
   "source": [
    "batch_in, batch_out, batch_label = get_random_batch(points.copy(), 4, 6, 5)\n",
    "batch_in, batch_out, batch_label\n",
    "batch_label"
   ]
  },
  {
   "cell_type": "code",
   "execution_count": 14,
   "metadata": {},
   "outputs": [
    {
     "name": "stdout",
     "output_type": "stream",
     "text": [
      "cuda\n"
     ]
    }
   ],
   "source": [
    "device = \"cuda\" if torch.cuda.is_available() else \"cpu\"\n",
    "print(device)\n",
    "#X, y_in, y_label = get_random_batch(points.copy(), 4, 6, 1)\n",
    "#X, y_in, y_label = torch.tensor(X).float().to(device), torch.tensor(y_in).float().to(device), torch.tensor(y_label).float().to(device)\n",
    "#X /= X.std(axis=1)\n",
    "#y /= y.std(axis=1)\n",
    "#print(X.std(axis=1))\n",
    "def train_loop(model, opt, loss_fn, num_batches, batch_size, device):\n",
    "    model.train()\n",
    "    total_loss = 0\n",
    "    \n",
    "    for _ in range(num_batches):\n",
    "        #X, y = get_random_batch(points.copy(), 4, 6, batch_size)\n",
    "        #X, y = torch.tensor(X).float().to(device), torch.tensor(y).float().to(device)\n",
    "        X, y_in, y_label = get_random_batch(points.copy(), 4, 6, batch_size)\n",
    "        X, y_in, y_label = torch.tensor(X).float().to(device), torch.tensor(y_in).float().to(device), torch.tensor(y_label).float().to(device)\n",
    "        \n",
    "        # Get mask to mask out the next words\n",
    "        sequence_length = y_in.size(1)\n",
    "        tgt_mask = model.generate_square_subsequent_mask(sequence_length).to(device).float()\n",
    "\n",
    "        # Standard training except we pass in y_input and tgt_mask\n",
    "        pred = model(X, y_in, tgt_mask)\n",
    "        # Permute pred to have batch size first again\n",
    "        loss = loss_fn(pred, y_label)\n",
    "\n",
    "        opt.zero_grad()\n",
    "        loss.backward()\n",
    "        opt.step()\n",
    "    \n",
    "        total_loss += loss.detach().item()\n",
    "        \n",
    "    return total_loss / num_batches\n",
    "\n",
    "def fit(model, opt, loss_fn, num_batches, batch_size, epochs, device):\n",
    "    \n",
    "    # Used for plotting later on\n",
    "    train_loss_list, validation_loss_list = [], []\n",
    "    \n",
    "    print(\"Training model\")\n",
    "    for epoch in range(epochs):\n",
    "        if epoch % 10 == 9:\n",
    "            print(\"-\"*25, f\"Epoch {epoch + 1}\",\"-\"*25)\n",
    "            \n",
    "            train_loss = train_loop(model, opt, loss_fn, num_batches, batch_size, device)\n",
    "            train_loss_list += [train_loss]\n",
    "            \n",
    "            print(f\"Training loss: {train_loss:.4f}\")\n",
    "            print()\n",
    "        \n",
    "    return train_loss_list, validation_loss_list"
   ]
  },
  {
   "cell_type": "code",
   "execution_count": 15,
   "metadata": {},
   "outputs": [],
   "source": [
    "\n",
    "model = Transformer(dim_model=16,\n",
    "                    dim_feature_in=2,\n",
    "                    dim_feature_out=2,\n",
    "                    num_heads=8,\n",
    "                    num_encoder_layers=1,\n",
    "                    num_decoder_layers=1,\n",
    "                    dropout_p=0.00).to(device)\n",
    "\n",
    "\n",
    "#model = TransformerModel(\n",
    "#    d_model=8,\n",
    "#    d_encoder_in=2,\n",
    "#    d_decoder_out=2,\n",
    "#    nhead=4,\n",
    "#    d_hid=128,\n",
    "#    nlayers=6,\n",
    "#).to(device)\n",
    "\n",
    "loss_fn = nn.MSELoss()"
   ]
  },
  {
   "cell_type": "code",
   "execution_count": 23,
   "metadata": {},
   "outputs": [
    {
     "name": "stdout",
     "output_type": "stream",
     "text": [
      "Training model\n",
      "------------------------- Epoch 10 -------------------------\n",
      "Training loss: 0.0007\n",
      "\n",
      "------------------------- Epoch 20 -------------------------\n",
      "Training loss: 0.0000\n",
      "\n",
      "------------------------- Epoch 30 -------------------------\n",
      "Training loss: 0.0000\n",
      "\n"
     ]
    },
    {
     "data": {
      "text/plain": [
       "([0.000705304416189545, 1.690863498893247e-05, 1.5078482504732316e-05], [])"
      ]
     },
     "execution_count": 23,
     "metadata": {},
     "output_type": "execute_result"
    }
   ],
   "source": [
    "opt = torch.optim.Adam(model.parameters(), lr=1e-2)\n",
    "fit(model, opt, loss_fn, 1024, 32, 30, device)"
   ]
  },
  {
   "cell_type": "code",
   "execution_count": 24,
   "metadata": {},
   "outputs": [
    {
     "data": {
      "text/plain": [
       "(tensor([[[-0.5005, -0.0082],\n",
       "          [-0.3337, -0.0054],\n",
       "          [-0.1668, -0.0027],\n",
       "          [ 0.0000,  0.0000]]]),\n",
       " tensor([[[0.1668, 0.0026],\n",
       "          [0.3337, 0.0050],\n",
       "          [0.5005, 0.0074],\n",
       "          [0.6673, 0.0097],\n",
       "          [0.8342, 0.0119],\n",
       "          [1.0010, 0.0140]]]))"
      ]
     },
     "execution_count": 24,
     "metadata": {},
     "output_type": "execute_result"
    }
   ],
   "source": [
    "X, y_in, y_label = get_random_batch(points.copy(), 4, 6, 1)\n",
    "X, y_in, y_label = torch.tensor(X).float().to(device), torch.tensor(y_in).float().to(device), torch.tensor(y_label).float().to(device)\n",
    "X_loc, y_label_loc = X.cpu(), y_label.cpu()\n",
    "y_loc = y_label_loc\n",
    "X_loc, y_loc"
   ]
  },
  {
   "cell_type": "code",
   "execution_count": 25,
   "metadata": {},
   "outputs": [
    {
     "data": {
      "text/plain": [
       "[<matplotlib.lines.Line2D at 0x26802ce13d0>]"
      ]
     },
     "execution_count": 25,
     "metadata": {},
     "output_type": "execute_result"
    },
    {
     "data": {
      "image/png": "[encoded data removed]",
      "text/plain": [
       "<Figure size 432x288 with 1 Axes>"
      ]
     },
     "metadata": {
      "needs_background": "light"
     },
     "output_type": "display_data"
    }
   ],
   "source": [
    "plt.plot(X_loc[0,:,0], X_loc[0,:,1])\n",
    "plt.plot(y_loc[0,:,0], y_loc[0,:,1])"
   ]
  },
  {
   "cell_type": "code",
   "execution_count": 26,
   "metadata": {},
   "outputs": [
    {
     "data": {
      "text/plain": [
       "tensor([[[0.1649, 0.0026],\n",
       "         [0.3320, 0.0041],\n",
       "         [0.4992, 0.0068],\n",
       "         [0.6651, 0.0093],\n",
       "         [0.8320, 0.0113],\n",
       "         [0.9993, 0.0139]]])"
      ]
     },
     "execution_count": 26,
     "metadata": {},
     "output_type": "execute_result"
    }
   ],
   "source": [
    "tgt_mask = model.generate_square_subsequent_mask(6).to(device).float()\n",
    "out = model(X, y_in, tgt_mask)\n",
    "out_cpu = out.cpu().detach()\n",
    "out_cpu"
   ]
  },
  {
   "cell_type": "code",
   "execution_count": 27,
   "metadata": {},
   "outputs": [
    {
     "data": {
      "text/plain": [
       "[<matplotlib.lines.Line2D at 0x26802d4a1f0>]"
      ]
     },
     "execution_count": 27,
     "metadata": {},
     "output_type": "execute_result"
    },
    {
     "data": {
      "image/png": "[encoded data removed]",
      "text/plain": [
       "<Figure size 432x288 with 1 Axes>"
      ]
     },
     "metadata": {
      "needs_background": "light"
     },
     "output_type": "display_data"
    }
   ],
   "source": [
    "plt.plot(y_loc[0,:,0], y_loc[0,:,1],color=\"red\")\n",
    "plt.plot(out_cpu[0,:,0], out_cpu[0,:,1],color=\"blue\")"
   ]
  },
  {
   "cell_type": "code",
   "execution_count": 164,
   "metadata": {},
   "outputs": [],
   "source": [
    "def predict(model, input_sequence, output_sequence_length):\n",
    "    model.eval()\n",
    "    START_TOKEN = input_sequence[0, -1]\n",
    "    y_input = START_TOKEN[None,None,:]\n",
    "    for _ in range(output_sequence_length):\n",
    "        # Get source mask\n",
    "        tgt_mask = model.generate_square_subsequent_mask(y_input.size(1)).to(device)\n",
    "        \n",
    "        pred = model(input_sequence, y_input, tgt_mask)\n",
    "        pred = pred.permute(1, 0, 2)\n",
    "        next_item = pred[0, -1][None, None, :]\n",
    "\n",
    "        # Concatenate previous input with predicted best word\n",
    "        y_input = torch.cat((y_input, next_item), dim=1)\n",
    "    return y_input[0,1:]\n",
    "\n",
    "def predict_multi(model, start_sequence, output_sequence_length, num_predictions):\n",
    "    current_input = start_sequence\n",
    "    outputs = predict(model, current_input, output_sequence_length)\n",
    "    current_input = outputs[None, :, :].clone()\n",
    "    last_mean = torch.mean(current_input, axis=1)\n",
    "    total_mean = last_mean\n",
    "    current_input -= last_mean\n",
    "    for _ in range(num_predictions - 1):\n",
    "        output = predict(model, current_input, output_sequence_length)\n",
    "        outputs = torch.cat((outputs, output + outputs[-1]), dim=0)\n",
    "        current_input = output[None, :, :].clone()\n",
    "        last_mean = torch.mean(current_input, axis=1)\n",
    "        current_input -= last_mean\n",
    "    return outputs\n"
   ]
  },
  {
   "cell_type": "code",
   "execution_count": 142,
   "metadata": {},
   "outputs": [
    {
     "data": {
      "text/plain": [
       "tensor([[ 1.6864e-01, -4.9596e-03],\n",
       "        [ 3.3760e-01, -9.3854e-03],\n",
       "        [ 5.0750e-01, -1.4819e-02],\n",
       "        ...,\n",
       "        [ 1.0703e+02, -8.7663e+00],\n",
       "        [ 1.0713e+02, -8.7706e+00],\n",
       "        [ 1.0715e+02, -8.7671e+00]])"
      ]
     },
     "execution_count": 142,
     "metadata": {},
     "output_type": "execute_result"
    }
   ],
   "source": [
    "predicted_points = predict_multi(model, X, 6, 100).cpu().detach()\n",
    "predicted_points"
   ]
  },
  {
   "cell_type": "code",
   "execution_count": 143,
   "metadata": {},
   "outputs": [
    {
     "data": {
      "text/plain": [
       "[<matplotlib.lines.Line2D at 0x1f29a62feb0>]"
      ]
     },
     "execution_count": 143,
     "metadata": {},
     "output_type": "execute_result"
    },
    {
     "data": {
      "image/png": "[encoded data removed]",
      "text/plain": [
       "<Figure size 432x288 with 1 Axes>"
      ]
     },
     "metadata": {
      "needs_background": "light"
     },
     "output_type": "display_data"
    }
   ],
   "source": [
    "plt.plot(predicted_points[:, 0], predicted_points[:, 1])"
   ]
  },
  {
   "cell_type": "code",
   "execution_count": 201,
   "metadata": {},
   "outputs": [],
   "source": [
    "A = torch.randn(5, 3, 2)\n",
    "B = torch.randn(5, 8)\n",
    "B_prime = B[:, None, :].repeat(1, 3, 1)"
   ]
  },
  {
   "cell_type": "code",
   "execution_count": 202,
   "metadata": {},
   "outputs": [
    {
     "data": {
      "text/plain": [
       "torch.Size([5, 3, 8])"
      ]
     },
     "execution_count": 202,
     "metadata": {},
     "output_type": "execute_result"
    }
   ],
   "source": [
    "B_prime.shape"
   ]
  },
  {
   "cell_type": "code",
   "execution_count": 203,
   "metadata": {},
   "outputs": [
    {
     "data": {
      "text/plain": [
       "torch.Size([5, 3, 10])"
      ]
     },
     "execution_count": 203,
     "metadata": {},
     "output_type": "execute_result"
    }
   ],
   "source": [
    "torch.concat((A, B_prime), dim=2).shape"
   ]
  },
  {
   "cell_type": "code",
   "execution_count": 28,
   "metadata": {},
   "outputs": [],
   "source": [
    "from network import TrajectoryPredictTransformerV1\n",
    "import torch"
   ]
  },
  {
   "cell_type": "code",
   "execution_count": 29,
   "metadata": {},
   "outputs": [],
   "source": [
    "test_model = TrajectoryPredictTransformerV1()"
   ]
  },
  {
   "cell_type": "code",
   "execution_count": 30,
   "metadata": {},
   "outputs": [],
   "source": [
    "sample_img = torch.randn(5, 3, 400, 400)\n",
    "sample_trajectories_past = torch.randn(5, 10, 3)\n",
    "sample_trajectories_future = torch.randn(5, 10, 3)\n"
   ]
  },
  {
   "cell_type": "code",
   "execution_count": 31,
   "metadata": {},
   "outputs": [
    {
     "data": {
      "text/plain": [
       "torch.Size([5, 10, 3])"
      ]
     },
     "execution_count": 31,
     "metadata": {},
     "output_type": "execute_result"
    }
   ],
   "source": [
    "test_model(sample_img, sample_trajectories_past, sample_trajectories_future).shape"
   ]
  },
  {
   "cell_type": "code",
   "execution_count": 1,
   "metadata": {},
   "outputs": [],
   "source": [
    "import torch"
   ]
  },
  {
   "cell_type": "code",
   "execution_count": 2,
   "metadata": {},
   "outputs": [],
   "source": [
    "A = torch.randn(5, 3)\n",
    "B = torch.randn(5, 3)\n"
   ]
  },
  {
   "cell_type": "code",
   "execution_count": 4,
   "metadata": {},
   "outputs": [
    {
     "data": {
      "text/plain": [
       "torch.Size([5, 3])"
      ]
     },
     "execution_count": 4,
     "metadata": {},
     "output_type": "execute_result"
    }
   ],
   "source": [
    "torch.concat((A[-1:], B[:-1])).shape"
   ]
  },
  {
   "cell_type": "code",
   "execution_count": null,
   "metadata": {},
   "outputs": [],
   "source": []
  }
 ],
 "metadata": {
  "interpreter": {
   "hash": "8b4b3b5ace3cf92d28d25fb90b479256c9ca07128d7bf850a675f6d71c26ca0e"
  },
  "kernelspec": {
   "display_name": "Python 3.9.7 ('parksim')",
   "language": "python",
   "name": "python3"
  },
  "language_info": {
   "codemirror_mode": {
    "name": "ipython",
    "version": 3
   },
   "file_extension": ".py",
   "mimetype": "text/x-python",
   "name": "python",
   "nbconvert_exporter": "python",
   "pygments_lexer": "ipython3",
   "version": "3.9.6"
  },
  "orig_nbformat": 4
 },
 "nbformat": 4,
 "nbformat_minor": 2
}
