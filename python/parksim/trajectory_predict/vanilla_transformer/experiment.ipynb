{
 "cells": [
  {
   "cell_type": "code",
   "execution_count": 1,
   "metadata": {},
   "outputs": [],
   "source": [
    "from network import Transformer, TransformerModel\n",
    "import torch\n",
    "import numpy as np\n",
    "import matplotlib.pyplot as plt\n",
    "from torch import nn"
   ]
  },
  {
   "cell_type": "code",
   "execution_count": 421,
   "metadata": {},
   "outputs": [
    {
     "data": {
      "text/plain": [
       "array([[ 0.00000000e+00,  0.00000000e+00],\n",
       "       [ 1.00100100e+00,  2.00172340e-02],\n",
       "       [ 2.00200200e+00,  4.00177531e-02],\n",
       "       ...,\n",
       "       [ 9.97997998e+02, -1.20072266e+01],\n",
       "       [ 9.98998999e+02, -1.17513354e+01],\n",
       "       [ 1.00000000e+03, -1.14916334e+01]])"
      ]
     },
     "execution_count": 421,
     "metadata": {},
     "output_type": "execute_result"
    }
   ],
   "source": [
    "def get_cosine_data():\n",
    "    t_vals = np.linspace(0, 1000, 1000)\n",
    "    return np.vstack((t_vals, np.cos(1/60 * t_vals) * t_vals / 50)).T\n",
    "\n",
    "points = get_cosine_data()\n",
    "points"
   ]
  },
  {
   "cell_type": "code",
   "execution_count": 422,
   "metadata": {},
   "outputs": [
    {
     "data": {
      "text/plain": [
       "[<matplotlib.lines.Line2D at 0x7fbe03c7fd60>]"
      ]
     },
     "execution_count": 422,
     "metadata": {},
     "output_type": "execute_result"
    },
    {
     "data": {
      "image/png": "[encoded data removed]",
      "text/plain": [
       "<Figure size 432x288 with 1 Axes>"
      ]
     },
     "metadata": {
      "needs_background": "light"
     },
     "output_type": "display_data"
    }
   ],
   "source": [
    "plt.plot(points[:,0], points[:,1])"
   ]
  },
  {
   "cell_type": "code",
   "execution_count": 423,
   "metadata": {},
   "outputs": [],
   "source": [
    "def get_random_sequence(data, in_seq_len, out_seq_len):\n",
    "    data_start_index = np.random.randint(0, data.shape[0] - in_seq_len - out_seq_len + 1)\n",
    "    in_seq, out_seq = data[data_start_index:data_start_index+in_seq_len].copy(), data[data_start_index+in_seq_len-1:data_start_index+in_seq_len+out_seq_len].copy()\n",
    "    right_most = in_seq[-1].copy()\n",
    "    in_seq -= right_most\n",
    "    out_seq -= right_most\n",
    "    in_seq[:, 0] /= 6\n",
    "    out_seq[:, 0] /= 6\n",
    "    in_seq[:, 1] /= 20\n",
    "    out_seq[:, 1] /= 20\n",
    "    return in_seq, out_seq[:-1], out_seq[1:]\n",
    "\n",
    "def get_random_batch(data, in_seq_len, out_seq_len, batch_size):\n",
    "    in_seq_dat, out_seq_dat, label_seq_dat = [], [], []\n",
    "    for _ in range(batch_size):\n",
    "        in_cur, out_cur, label_cur = get_random_sequence(data, in_seq_len, out_seq_len)\n",
    "        in_seq_dat.append(in_cur)\n",
    "        out_seq_dat.append(out_cur)\n",
    "        label_seq_dat.append(label_cur)\n",
    "    return np.array(in_seq_dat), np.array(out_seq_dat), np.array(label_seq_dat)\n"
   ]
  },
  {
   "cell_type": "code",
   "execution_count": 424,
   "metadata": {},
   "outputs": [
    {
     "data": {
      "text/plain": [
       "(array([[-0.5005005 ,  0.0034338 ],\n",
       "        [-0.333667  ,  0.00223928],\n",
       "        [-0.1668335 ,  0.00109439],\n",
       "        [ 0.        ,  0.        ]]),\n",
       " array([[ 0.        ,  0.        ],\n",
       "        [ 0.1668335 , -0.00104303],\n",
       "        [ 0.333667  , -0.00203386],\n",
       "        [ 0.5005005 , -0.00297165],\n",
       "        [ 0.667334  , -0.00385558],\n",
       "        [ 0.8341675 , -0.00468486]]),\n",
       " array([[ 0.1668335 , -0.00104303],\n",
       "        [ 0.333667  , -0.00203386],\n",
       "        [ 0.5005005 , -0.00297165],\n",
       "        [ 0.667334  , -0.00385558],\n",
       "        [ 0.8341675 , -0.00468486],\n",
       "        [ 1.001001  , -0.00545868]]))"
      ]
     },
     "execution_count": 424,
     "metadata": {},
     "output_type": "execute_result"
    }
   ],
   "source": [
    "get_random_sequence(points.copy(), 4, 6)"
   ]
  },
  {
   "cell_type": "code",
   "execution_count": 425,
   "metadata": {},
   "outputs": [
    {
     "data": {
      "text/plain": [
       "array([[[ 1.66833500e-01,  1.10863782e-03],\n",
       "        [ 3.33667000e-01,  2.48401768e-03],\n",
       "        [ 5.00500501e-01,  4.12630776e-03],\n",
       "        [ 6.67334001e-01,  6.03560046e-03],\n",
       "        [ 8.34167501e-01,  8.21191227e-03],\n",
       "        [ 1.00100100e+00,  1.06551836e-02]],\n",
       "\n",
       "       [[ 1.66833500e-01, -7.97101265e-03],\n",
       "        [ 3.33667000e-01, -1.59660041e-02],\n",
       "        [ 5.00500501e-01, -2.39827050e-02],\n",
       "        [ 6.67334001e-01, -3.20188311e-02],\n",
       "        [ 8.34167501e-01, -4.00720832e-02],\n",
       "        [ 1.00100100e+00, -4.81401481e-02]],\n",
       "\n",
       "       [[ 1.66833500e-01,  4.61249712e-03],\n",
       "        [ 3.33667000e-01,  9.26156613e-03],\n",
       "        [ 5.00500501e-01,  1.39459313e-02],\n",
       "        [ 6.67334001e-01,  1.86642977e-02],\n",
       "        [ 8.34167501e-01,  2.34153518e-02],\n",
       "        [ 1.00100100e+00,  2.81977616e-02]],\n",
       "\n",
       "       [[ 1.66833500e-01, -7.74844063e-03],\n",
       "        [ 3.33667000e-01, -1.54537871e-02],\n",
       "        [ 5.00500501e-01, -2.31136054e-02],\n",
       "        [ 6.67334001e-01, -3.07254663e-02],\n",
       "        [ 8.34167501e-01, -3.82869462e-02],\n",
       "        [ 1.00100100e+00, -4.57956276e-02]],\n",
       "\n",
       "       [[ 1.66833500e-01,  8.11218125e-04],\n",
       "        [ 3.33667000e-01,  1.60473014e-03],\n",
       "        [ 5.00500501e-01,  2.37979679e-03],\n",
       "        [ 6.67334001e-01,  3.13568743e-03],\n",
       "        [ 8.34167501e-01,  3.87168039e-03],\n",
       "        [ 1.00100100e+00,  4.58706330e-03]]])"
      ]
     },
     "execution_count": 425,
     "metadata": {},
     "output_type": "execute_result"
    }
   ],
   "source": [
    "batch_in, batch_out, batch_label = get_random_batch(points.copy(), 4, 6, 5)\n",
    "batch_in, batch_out, batch_label\n",
    "batch_label"
   ]
  },
  {
   "cell_type": "code",
   "execution_count": 465,
   "metadata": {},
   "outputs": [
    {
     "name": "stdout",
     "output_type": "stream",
     "text": [
      "cuda\n"
     ]
    }
   ],
   "source": [
    "device = \"cuda\" if torch.cuda.is_available() else \"cpu\"\n",
    "print(device)\n",
    "#X, y_in, y_label = get_random_batch(points.copy(), 4, 6, 1)\n",
    "#X, y_in, y_label = torch.tensor(X).float().to(device), torch.tensor(y_in).float().to(device), torch.tensor(y_label).float().to(device)\n",
    "#X /= X.std(axis=1)\n",
    "#y /= y.std(axis=1)\n",
    "#print(X.std(axis=1))\n",
    "def train_loop(model, opt, loss_fn, num_batches, batch_size, device):\n",
    "    \"\"\"\n",
    "    Method from \"A detailed guide to Pytorch's nn.Transformer() module.\", by\n",
    "    Daniel Melchor: https://medium.com/@danielmelchor/a-detailed-guide-to-pytorchs-nn-transformer-module-c80afbc9ffb1\n",
    "    \"\"\"\n",
    "    model.train()\n",
    "    total_loss = 0\n",
    "    \n",
    "    for _ in range(num_batches):\n",
    "        #X, y = get_random_batch(points.copy(), 4, 6, batch_size)\n",
    "        #X, y = torch.tensor(X).float().to(device), torch.tensor(y).float().to(device)\n",
    "        X, y_in, y_label = get_random_batch(points.copy(), 4, 6, batch_size)\n",
    "        X, y_in, y_label = torch.tensor(X).float().to(device), torch.tensor(y_in).float().to(device), torch.tensor(y_label).float().to(device)\n",
    "        \n",
    "        # Get mask to mask out the next words\n",
    "        sequence_length = y_in.size(1)\n",
    "        tgt_mask = model.generate_square_subsequent_mask(sequence_length).to(device).float()\n",
    "\n",
    "        # Standard training except we pass in y_input and tgt_mask\n",
    "        pred = model(X, y_in, tgt_mask)\n",
    "        # Permute pred to have batch size first again\n",
    "        pred = pred.permute(1, 0, 2) \n",
    "        loss = loss_fn(pred, y_label)\n",
    "\n",
    "        opt.zero_grad()\n",
    "        loss.backward()\n",
    "        opt.step()\n",
    "    \n",
    "        total_loss += loss.detach().item()\n",
    "        \n",
    "    return total_loss / num_batches\n",
    "\n",
    "def fit(model, opt, loss_fn, num_batches, batch_size, epochs, device):\n",
    "    \"\"\"\n",
    "    Method from \"A detailed guide to Pytorch's nn.Transformer() module.\", by\n",
    "    Daniel Melchor: https://medium.com/@danielmelchor/a-detailed-guide-to-pytorchs-nn-transformer-module-c80afbc9ffb1\n",
    "    \"\"\"\n",
    "    \n",
    "    # Used for plotting later on\n",
    "    train_loss_list, validation_loss_list = [], []\n",
    "    \n",
    "    print(\"Training and validating model\")\n",
    "    for epoch in range(epochs):\n",
    "        if epoch % 10 == 9:\n",
    "            print(\"-\"*25, f\"Epoch {epoch + 1}\",\"-\"*25)\n",
    "            \n",
    "            train_loss = train_loop(model, opt, loss_fn, num_batches, batch_size, device)\n",
    "            train_loss_list += [train_loss]\n",
    "            \n",
    "            print(f\"Training loss: {train_loss:.4f}\")\n",
    "            print()\n",
    "        \n",
    "    return train_loss_list, validation_loss_list"
   ]
  },
  {
   "cell_type": "code",
   "execution_count": 466,
   "metadata": {},
   "outputs": [],
   "source": [
    "\n",
    "model = Transformer(dim_model=16,\n",
    "                    dim_feature=2,\n",
    "                    num_heads=8,\n",
    "                    num_encoder_layers=1,\n",
    "                    num_decoder_layers=1,\n",
    "                    dropout_p=0.00).to(device)\n",
    "\n",
    "\n",
    "#model = TransformerModel(\n",
    "#    d_model=8,\n",
    "#    d_encoder_in=2,\n",
    "#    d_decoder_out=2,\n",
    "#    nhead=4,\n",
    "#    d_hid=128,\n",
    "#    nlayers=6,\n",
    "#).to(device)\n",
    "\n",
    "loss_fn = nn.MSELoss()"
   ]
  },
  {
   "cell_type": "code",
   "execution_count": 467,
   "metadata": {},
   "outputs": [
    {
     "name": "stdout",
     "output_type": "stream",
     "text": [
      "Training and validating model\n",
      "------------------------- Epoch 10 -------------------------\n",
      "Training loss: 0.0050\n",
      "\n",
      "------------------------- Epoch 20 -------------------------\n",
      "Training loss: 0.0000\n",
      "\n",
      "------------------------- Epoch 30 -------------------------\n",
      "Training loss: 0.0000\n",
      "\n"
     ]
    },
    {
     "data": {
      "text/plain": [
       "([0.00496043666705992, 3.363274232981439e-05, 3.347245699925061e-05], [])"
      ]
     },
     "execution_count": 467,
     "metadata": {},
     "output_type": "execute_result"
    }
   ],
   "source": [
    "opt = torch.optim.Adam(model.parameters(), lr=1e-2)\n",
    "fit(model, opt, loss_fn, 1024, 32, 30, device)"
   ]
  },
  {
   "cell_type": "code",
   "execution_count": 473,
   "metadata": {},
   "outputs": [
    {
     "data": {
      "text/plain": [
       "(tensor([[[-0.5005, -0.0099],\n",
       "          [-0.3337, -0.0066],\n",
       "          [-0.1668, -0.0033],\n",
       "          [ 0.0000,  0.0000]]]),\n",
       " tensor([[[0.1668, 0.0034]],\n",
       " \n",
       "         [[0.3337, 0.0069]],\n",
       " \n",
       "         [[0.5005, 0.0104]],\n",
       " \n",
       "         [[0.6673, 0.0140]],\n",
       " \n",
       "         [[0.8342, 0.0176]],\n",
       " \n",
       "         [[1.0010, 0.0213]]]))"
      ]
     },
     "execution_count": 473,
     "metadata": {},
     "output_type": "execute_result"
    }
   ],
   "source": [
    "X, y_in, y_label = get_random_batch(points.copy(), 4, 6, 1)\n",
    "X, y_in, y_label = torch.tensor(X).float().to(device), torch.tensor(y_in).float().to(device), torch.tensor(y_label).float().to(device)\n",
    "X_loc, y_label_loc = X.cpu(), y_label.cpu()\n",
    "y_loc = y_label_loc.permute(1, 0, 2)\n",
    "X_loc, y_loc"
   ]
  },
  {
   "cell_type": "code",
   "execution_count": 474,
   "metadata": {},
   "outputs": [
    {
     "data": {
      "text/plain": [
       "[<matplotlib.lines.Line2D at 0x7fbdd1d68310>]"
      ]
     },
     "execution_count": 474,
     "metadata": {},
     "output_type": "execute_result"
    },
    {
     "data": {
      "image/png": "[encoded data removed]",
      "text/plain": [
       "<Figure size 432x288 with 1 Axes>"
      ]
     },
     "metadata": {
      "needs_background": "light"
     },
     "output_type": "display_data"
    }
   ],
   "source": [
    "plt.plot(X_loc[0,:,0], X_loc[0,:, 1])\n",
    "plt.plot(y_loc[:,0,0], y_loc[:,0, 1])"
   ]
  },
  {
   "cell_type": "code",
   "execution_count": 475,
   "metadata": {},
   "outputs": [
    {
     "data": {
      "text/plain": [
       "tensor([[[ 0.1678, -0.0044]],\n",
       "\n",
       "        [[ 0.3349,  0.0023]],\n",
       "\n",
       "        [[ 0.4999,  0.0080]],\n",
       "\n",
       "        [[ 0.6683,  0.0129]],\n",
       "\n",
       "        [[ 0.8345,  0.0168]],\n",
       "\n",
       "        [[ 1.0021,  0.0215]]])"
      ]
     },
     "execution_count": 475,
     "metadata": {},
     "output_type": "execute_result"
    }
   ],
   "source": [
    "tgt_mask = model.generate_square_subsequent_mask(6).to(device).float()\n",
    "out = model(X, y_in, tgt_mask)#.permute(1, 0, 2)\n",
    "out_cpu = out.cpu().detach()\n",
    "out_cpu"
   ]
  },
  {
   "cell_type": "code",
   "execution_count": 476,
   "metadata": {},
   "outputs": [
    {
     "data": {
      "text/plain": [
       "[<matplotlib.lines.Line2D at 0x7fbdd1cc5ca0>]"
      ]
     },
     "execution_count": 476,
     "metadata": {},
     "output_type": "execute_result"
    },
    {
     "data": {
      "image/png": "[encoded data removed]",
      "text/plain": [
       "<Figure size 432x288 with 1 Axes>"
      ]
     },
     "metadata": {
      "needs_background": "light"
     },
     "output_type": "display_data"
    }
   ],
   "source": [
    "plt.plot(y_loc[:,0,0], y_loc[:,0, 1],color=\"red\")\n",
    "plt.plot(out_cpu[:,0,0], out_cpu[:,0, 1],color=\"blue\")"
   ]
  },
  {
   "cell_type": "code",
   "execution_count": null,
   "metadata": {},
   "outputs": [],
   "source": []
  }
 ],
 "metadata": {
  "interpreter": {
   "hash": "8b4b3b5ace3cf92d28d25fb90b479256c9ca07128d7bf850a675f6d71c26ca0e"
  },
  "kernelspec": {
   "display_name": "Python 3.9.7 ('parksim')",
   "language": "python",
   "name": "python3"
  },
  "language_info": {
   "codemirror_mode": {
    "name": "ipython",
    "version": 3
   },
   "file_extension": ".py",
   "mimetype": "text/x-python",
   "name": "python",
   "nbconvert_exporter": "python",
   "pygments_lexer": "ipython3",
   "version": "3.9.7"
  },
  "orig_nbformat": 4
 },
 "nbformat": 4,
 "nbformat_minor": 2
}
