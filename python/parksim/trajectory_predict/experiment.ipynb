{
 "cells": [
  {
   "cell_type": "code",
   "execution_count": 1,
   "metadata": {},
   "outputs": [],
   "source": [
    "from utils import CNNTransformerDataset, CNNTransformerDatasetMulti\n",
    "import numpy as np\n",
    "import torch\n",
    "from vanilla_transformer.network import TrajectoryPredictTransformerV1\n",
    "from torchvision import transforms\n",
    "from torch.utils.data import DataLoader\n",
    "from torch import nn\n",
    "import matplotlib.pyplot as plt"
   ]
  },
  {
   "cell_type": "code",
   "execution_count": 7,
   "metadata": {},
   "outputs": [],
   "source": [
    "#dataset_nums = ['data/DJI_0008', 'data/DJI_0009', 'data/DJI_0010', 'data/DJI_0011', 'data/DJI_0012']\n",
    "dataset_nums = ['data/DJI_0012']\n",
    "dataset = CNNTransformerDatasetMulti(dataset_nums, img_transform=transforms.ToTensor())\n",
    "val_proportion = 0.25\n",
    "val_size = int(val_proportion * len(dataset))\n",
    "train_size = len(dataset) - val_size\n",
    "validation_dataset, train_dataset = torch.utils.data.random_split(dataset, [val_size, train_size], generator=torch.Generator().manual_seed(42))\n",
    "trainloader = DataLoader(train_dataset, batch_size=32, shuffle=True, num_workers=12)\n",
    "testloader = DataLoader(validation_dataset, batch_size=32, shuffle=True, num_workers=12)\n",
    "\n",
    "#dataset_num = '0012'\n",
    "#dataset = CNNTransformerDataset(f\"data/DJI_{dataset_num}\", img_transform=transforms.ToTensor())\n",
    "#val_proportion = 0.25\n",
    "#val_size = int(val_proportion * len(dataset))\n",
    "#train_size = len(dataset) - val_size\n",
    "#validation_dataset, train_dataset = torch.utils.data.random_split(dataset, [val_size, train_size], generator=torch.Generator().manual_seed(42))\n",
    "#trainloader = DataLoader(train_dataset, batch_size=32, shuffle=True, num_workers=12)\n",
    "#testloader = DataLoader(validation_dataset, batch_size=32, shuffle=True, num_workers=12)"
   ]
  },
  {
   "cell_type": "code",
   "execution_count": 8,
   "metadata": {},
   "outputs": [
    {
     "name": "stdout",
     "output_type": "stream",
     "text": [
      "cuda\n"
     ]
    }
   ],
   "source": [
    "device = \"cuda\" if torch.cuda.is_available() else \"cpu\"\n",
    "print(device)"
   ]
  },
  {
   "cell_type": "code",
   "execution_count": 12,
   "metadata": {},
   "outputs": [],
   "source": [
    "def train_loop(model, opt, loss_fn, data_loader, device):\n",
    "    model.train()\n",
    "    total_loss = 0\n",
    "    \n",
    "    for batch in data_loader:\n",
    "        #X, y = get_random_batch(points.copy(), 4, 6, batch_size)\n",
    "        #X, y = torch.tensor(X).float().to(device), torch.tensor(y).float().to(device)\n",
    "        img, X, y_in, y_label = batch\n",
    "        img = img.to(device).float()\n",
    "        X = X.to(device).float()\n",
    "        y_in = y_in.to(device).float()\n",
    "        y_label = y_label.to(device).float()\n",
    "        tgt_mask = model.transformer.generate_square_subsequent_mask(y_in.shape[1]).to(device).float()\n",
    "\n",
    "        # Standard training except we pass in y_input and tgt_mask\n",
    "        pred = model(img, X, y_in, tgt_mask=tgt_mask)\n",
    "        # Permute pred to have batch size first again\n",
    "        loss = loss_fn(pred, y_label)\n",
    "        opt.zero_grad()\n",
    "        loss.backward()\n",
    "        opt.step()\n",
    "        total_loss += loss.detach().item()\n",
    "        \n",
    "    return total_loss / len(data_loader)\n",
    "\n",
    "def validation_loop(model, loss_fn, dataloader, device):\n",
    "    model.eval()\n",
    "    total_loss = 0\n",
    "    with torch.no_grad():\n",
    "        for batch in dataloader:\n",
    "            img, X, y_in, y_label = batch\n",
    "            img = img.to(device).float()\n",
    "            X = X.to(device).float()\n",
    "            y_in = y_in.to(device).float()\n",
    "            y_label = y_label.to(device).float()\n",
    "            tgt_mask = model.transformer.generate_square_subsequent_mask(y_in.shape[1]).to(device).float()\n",
    "            pred = model(img, X, y_in, tgt_mask)\n",
    "            loss = loss_fn(pred, y_label)\n",
    "            total_loss += loss.detach().item()\n",
    "    return total_loss / len(dataloader)\n",
    "\n",
    "def fit(model, opt, loss_fn, train_data_loader, val_data_loader, epochs, print_every=10, device=\"cuda\"):\n",
    "    \n",
    "    # Used for plotting later on\n",
    "    train_loss_list, validation_loss_list = [], []\n",
    "    print(\"Training model\")\n",
    "    for epoch in range(epochs):\n",
    "        if epoch % print_every == print_every - 1:\n",
    "            print(\"-\"*25, f\"Epoch {epoch + 1}\",\"-\"*25)\n",
    "            train_loss = train_loop(model, opt, loss_fn, train_data_loader, device)\n",
    "            train_loss_list += [train_loss]\n",
    "            validation_loss = validation_loop(model, loss_fn, val_data_loader, device)\n",
    "            validation_loss_list += [validation_loss]\n",
    "            print(f\"Training loss: {train_loss:.4f}\")\n",
    "            print(f\"Validation loss: {validation_loss:.4f}\")\n",
    "            print()\n",
    "        else:\n",
    "            train_loss = train_loop(model, opt, loss_fn, train_data_loader, device)\n",
    "            train_loss_list += [train_loss]\n",
    "            validation_loss = validation_loop(model, loss_fn, val_data_loader, device)\n",
    "            validation_loss_list += [validation_loss]\n",
    "    return train_loss_list, validation_loss_list"
   ]
  },
  {
   "cell_type": "code",
   "execution_count": 13,
   "metadata": {},
   "outputs": [],
   "source": [
    "\n",
    "model = TrajectoryPredictTransformerV1().to(device)\n",
    "loss_fn = nn.MSELoss()"
   ]
  },
  {
   "cell_type": "code",
   "execution_count": 14,
   "metadata": {},
   "outputs": [
    {
     "name": "stdout",
     "output_type": "stream",
     "text": [
      "Training model\n",
      "------------------------- Epoch 2 -------------------------\n",
      "Training loss: 2.0372\n",
      "Validation loss: 1.3257\n",
      "\n",
      "------------------------- Epoch 4 -------------------------\n",
      "Training loss: 1.1794\n",
      "Validation loss: 1.0175\n",
      "\n",
      "------------------------- Epoch 6 -------------------------\n",
      "Training loss: 1.0107\n",
      "Validation loss: 0.7357\n",
      "\n",
      "------------------------- Epoch 8 -------------------------\n",
      "Training loss: 0.9360\n",
      "Validation loss: 0.5722\n",
      "\n",
      "------------------------- Epoch 10 -------------------------\n",
      "Training loss: 0.7745\n",
      "Validation loss: 0.5278\n",
      "\n"
     ]
    },
    {
     "data": {
      "text/plain": [
       "([3.07314021512866,\n",
       "  2.0371827678754926,\n",
       "  1.3981338292360306,\n",
       "  1.1793798794969916,\n",
       "  1.1078955791890621,\n",
       "  1.010742605663836,\n",
       "  0.9237363622523844,\n",
       "  0.9359869426116347,\n",
       "  0.8698587561957538,\n",
       "  0.774512683507055],\n",
       " [2.213006019592285,\n",
       "  1.3256649049845608,\n",
       "  0.8752166005698118,\n",
       "  1.017468891360543,\n",
       "  0.7925079546191476,\n",
       "  0.7356586781415072,\n",
       "  0.6827595843510195,\n",
       "  0.5721793858842417,\n",
       "  0.5143501636656848,\n",
       "  0.5278471586379138])"
      ]
     },
     "execution_count": 14,
     "metadata": {},
     "output_type": "execute_result"
    }
   ],
   "source": [
    "opt = torch.optim.SGD(model.parameters(), lr=1e-2)\n",
    "fit(model=model, opt=opt, loss_fn=loss_fn, train_data_loader=trainloader, val_data_loader=testloader, epochs=10, print_every=2)"
   ]
  },
  {
   "cell_type": "code",
   "execution_count": null,
   "metadata": {},
   "outputs": [],
   "source": [
    "model_state = torch.load('models/CNN_Transformer_03-04-2022_12-25-47.pth')\n",
    "model.load_state_dict(model_state)\n",
    "model = TrajectoryPredictTransformerV1().to(device)"
   ]
  },
  {
   "cell_type": "code",
   "execution_count": 15,
   "metadata": {},
   "outputs": [],
   "source": [
    "img, X, y_in, y_lbl = dataset[700]"
   ]
  },
  {
   "cell_type": "code",
   "execution_count": 16,
   "metadata": {},
   "outputs": [
    {
     "data": {
      "text/plain": [
       "(tensor([[ 0.0000e+00,  0.0000e+00,  0.0000e+00],\n",
       "         [ 1.1600e+00, -1.5123e-03, -1.0000e-04],\n",
       "         [ 2.2800e+00, -2.9724e-03,  7.0000e-04],\n",
       "         [ 3.3000e+00,  5.6979e-03,  2.3000e-03],\n",
       "         [ 4.1700e+00,  4.5637e-03,  4.9000e-03],\n",
       "         [ 4.9200e+00,  2.3586e-02,  8.3000e-03],\n",
       "         [ 5.5900e+00,  3.2712e-02,  1.2500e-02],\n",
       "         [ 6.1701e+00,  5.1956e-02,  1.7000e-02],\n",
       "         [ 6.6801e+00,  7.1291e-02,  2.1900e-02],\n",
       "         [ 7.1101e+00,  9.0731e-02,  2.6600e-02]], dtype=torch.float64),\n",
       " tensor([[ 1.1600e+00, -1.5123e-03, -1.0000e-04],\n",
       "         [ 2.2800e+00, -2.9724e-03,  7.0000e-04],\n",
       "         [ 3.3000e+00,  5.6979e-03,  2.3000e-03],\n",
       "         [ 4.1700e+00,  4.5637e-03,  4.9000e-03],\n",
       "         [ 4.9200e+00,  2.3586e-02,  8.3000e-03],\n",
       "         [ 5.5900e+00,  3.2712e-02,  1.2500e-02],\n",
       "         [ 6.1701e+00,  5.1956e-02,  1.7000e-02],\n",
       "         [ 6.6801e+00,  7.1291e-02,  2.1900e-02],\n",
       "         [ 7.1101e+00,  9.0731e-02,  2.6600e-02],\n",
       "         [ 7.4701e+00,  1.0026e-01,  3.0700e-02]], dtype=torch.float64))"
      ]
     },
     "execution_count": 16,
     "metadata": {},
     "output_type": "execute_result"
    }
   ],
   "source": [
    "y_in, y_lbl"
   ]
  },
  {
   "cell_type": "code",
   "execution_count": 17,
   "metadata": {},
   "outputs": [
    {
     "data": {
      "text/plain": [
       "tensor([[[10.1882, -0.0126,  0.2286],\n",
       "         [11.8836,  0.3826,  0.1827],\n",
       "         [11.9498,  0.4735,  0.1552],\n",
       "         [11.9288,  0.5096,  0.1423],\n",
       "         [11.9095,  0.5255,  0.1353],\n",
       "         [11.8947,  0.5352,  0.1309],\n",
       "         [11.8841,  0.5417,  0.1280],\n",
       "         [11.8765,  0.5471,  0.1257],\n",
       "         [11.8732,  0.5511,  0.1239],\n",
       "         [11.8684,  0.5541,  0.1225]]], device='cuda:0',\n",
       "       grad_fn=<AddBackward0>)"
      ]
     },
     "execution_count": 17,
     "metadata": {},
     "output_type": "execute_result"
    }
   ],
   "source": [
    "model(img.cuda()[None,:,:,:].float(), X.cuda()[None,:,:].float(), y_in.cuda()[None,:,:].float())"
   ]
  },
  {
   "cell_type": "code",
   "execution_count": null,
   "metadata": {},
   "outputs": [],
   "source": []
  }
 ],
 "metadata": {
  "interpreter": {
   "hash": "8b4b3b5ace3cf92d28d25fb90b479256c9ca07128d7bf850a675f6d71c26ca0e"
  },
  "kernelspec": {
   "display_name": "Python 3.9.7 ('parksim')",
   "language": "python",
   "name": "python3"
  },
  "language_info": {
   "codemirror_mode": {
    "name": "ipython",
    "version": 3
   },
   "file_extension": ".py",
   "mimetype": "text/x-python",
   "name": "python",
   "nbconvert_exporter": "python",
   "pygments_lexer": "ipython3",
   "version": "3.9.7"
  },
  "orig_nbformat": 4
 },
 "nbformat": 4,
 "nbformat_minor": 2
}
