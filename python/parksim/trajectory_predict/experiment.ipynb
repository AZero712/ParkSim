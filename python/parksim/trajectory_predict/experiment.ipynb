{
 "cells": [
  {
   "cell_type": "code",
   "execution_count": 10,
   "metadata": {},
   "outputs": [],
   "source": [
    "from utils import CNNTransformerDataset\n",
    "import numpy as np\n",
    "import torch\n",
    "from vanilla_transformer.network import TrajectoryPredictTransformerV1\n",
    "from torchvision import transforms\n",
    "from torch.utils.data import DataLoader\n",
    "from torch import nn\n",
    "import matplotlib.pyplot as plt"
   ]
  },
  {
   "cell_type": "code",
   "execution_count": 19,
   "metadata": {},
   "outputs": [],
   "source": [
    "dataset_num = '0008'\n",
    "dataset = CNNTransformerDataset(f\"data/DJI_{dataset_num}\", img_transform=transforms.ToTensor())\n",
    "val_proportion = 0.25\n",
    "val_size = int(val_proportion * len(dataset))\n",
    "train_size = len(dataset) - val_size\n",
    "validation_dataset, train_dataset = torch.utils.data.random_split(dataset, [val_size, train_size], generator=torch.Generator().manual_seed(42))\n",
    "trainloader = DataLoader(train_dataset, batch_size=32, shuffle=True, num_workers=12)\n",
    "testloader = DataLoader(validation_dataset, batch_size=32, shuffle=True, num_workers=12)"
   ]
  },
  {
   "cell_type": "code",
   "execution_count": 20,
   "metadata": {},
   "outputs": [
    {
     "data": {
      "text/plain": [
       "(1363, 400, 400, 3)"
      ]
     },
     "execution_count": 20,
     "metadata": {},
     "output_type": "execute_result"
    }
   ],
   "source": [
    "dataset.image_features.shape"
   ]
  },
  {
   "cell_type": "code",
   "execution_count": 4,
   "metadata": {},
   "outputs": [
    {
     "name": "stdout",
     "output_type": "stream",
     "text": [
      "cuda\n"
     ]
    }
   ],
   "source": [
    "device = \"cuda\" if torch.cuda.is_available() else \"cpu\"\n",
    "print(device)"
   ]
  },
  {
   "cell_type": "code",
   "execution_count": 12,
   "metadata": {},
   "outputs": [],
   "source": [
    "def train_loop(model, opt, loss_fn, data_loader, device):\n",
    "    model.train()\n",
    "    total_loss = 0\n",
    "    \n",
    "    for batch in data_loader:\n",
    "        #X, y = get_random_batch(points.copy(), 4, 6, batch_size)\n",
    "        #X, y = torch.tensor(X).float().to(device), torch.tensor(y).float().to(device)\n",
    "        img, X, y_in, y_label = batch\n",
    "        img = img.to(device).float()\n",
    "        X = X.to(device).float()\n",
    "        y_in = y_in.to(device).float()\n",
    "        y_label = y_label.to(device).float()\n",
    "        tgt_mask = model.transformer.generate_square_subsequent_mask(y_in.shape[1]).to(device).float()\n",
    "\n",
    "        # Standard training except we pass in y_input and tgt_mask\n",
    "        pred = model(img, X, y_in, tgt_mask=tgt_mask)\n",
    "        # Permute pred to have batch size first again\n",
    "        loss = loss_fn(pred, y_label)\n",
    "        opt.zero_grad()\n",
    "        loss.backward()\n",
    "        opt.step()\n",
    "        total_loss += loss.detach().item()\n",
    "        \n",
    "    return total_loss / len(data_loader)\n",
    "\n",
    "def validation_loop(model, loss_fn, dataloader, device):\n",
    "    model.eval()\n",
    "    total_loss = 0\n",
    "    with torch.no_grad():\n",
    "        for batch in dataloader:\n",
    "            img, X, y_in, y_label = batch\n",
    "            img = img.to(device).float()\n",
    "            X = X.to(device).float()\n",
    "            y_in = y_in.to(device).float()\n",
    "            y_label = y_label.to(device).float()\n",
    "            tgt_mask = model.transformer.generate_square_subsequent_mask(y_in.shape[1]).to(device).float()\n",
    "            pred = model(img, X, y_in, tgt_mask)\n",
    "            loss = loss_fn(pred, y_label)\n",
    "            total_loss += loss.detach().item()\n",
    "    return total_loss / len(dataloader)\n",
    "\n",
    "def fit(model, opt, loss_fn, train_data_loader, val_data_loader, epochs, print_every=10, device=\"cuda\"):\n",
    "    \n",
    "    # Used for plotting later on\n",
    "    train_loss_list, validation_loss_list = [], []\n",
    "    print(\"Training model\")\n",
    "    for epoch in range(epochs):\n",
    "        if epoch % print_every == print_every - 1:\n",
    "            print(\"-\"*25, f\"Epoch {epoch + 1}\",\"-\"*25)\n",
    "            train_loss = train_loop(model, opt, loss_fn, train_data_loader, device)\n",
    "            train_loss_list += [train_loss]\n",
    "            validation_loss = validation_loop(model, loss_fn, val_data_loader, device)\n",
    "            validation_loss_list += [validation_loss]\n",
    "            print(f\"Training loss: {train_loss:.4f}\")\n",
    "            print(f\"Validation loss: {validation_loss:.4f}\")\n",
    "            print()\n",
    "        else:\n",
    "            train_loss = train_loop(model, opt, loss_fn, train_data_loader, device)\n",
    "            train_loss_list += [train_loss]\n",
    "            validation_loss = validation_loop(model, loss_fn, val_data_loader, device)\n",
    "            validation_loss_list += [validation_loss]\n",
    "    return train_loss_list, validation_loss_list"
   ]
  },
  {
   "cell_type": "code",
   "execution_count": 13,
   "metadata": {},
   "outputs": [],
   "source": [
    "\n",
    "model = TrajectoryPredictTransformerV1().to(device)\n",
    "loss_fn = nn.MSELoss()"
   ]
  },
  {
   "cell_type": "code",
   "execution_count": 14,
   "metadata": {},
   "outputs": [
    {
     "name": "stdout",
     "output_type": "stream",
     "text": [
      "Training model\n",
      "------------------------- Epoch 2 -------------------------\n",
      "Training loss: 0.2743\n",
      "Validation loss: 0.1725\n",
      "\n",
      "------------------------- Epoch 4 -------------------------\n",
      "Training loss: 0.2087\n",
      "Validation loss: 0.2181\n",
      "\n",
      "------------------------- Epoch 6 -------------------------\n",
      "Training loss: 0.1729\n",
      "Validation loss: 0.2622\n",
      "\n",
      "------------------------- Epoch 8 -------------------------\n",
      "Training loss: 0.1565\n",
      "Validation loss: 0.0916\n",
      "\n",
      "------------------------- Epoch 10 -------------------------\n",
      "Training loss: 0.1272\n",
      "Validation loss: 0.0471\n",
      "\n",
      "------------------------- Epoch 12 -------------------------\n",
      "Training loss: 0.1371\n",
      "Validation loss: 0.0792\n",
      "\n",
      "------------------------- Epoch 14 -------------------------\n",
      "Training loss: 0.1073\n",
      "Validation loss: 0.1535\n",
      "\n",
      "------------------------- Epoch 16 -------------------------\n",
      "Training loss: 0.1024\n",
      "Validation loss: 0.0465\n",
      "\n",
      "------------------------- Epoch 18 -------------------------\n",
      "Training loss: 0.0909\n",
      "Validation loss: 0.0326\n",
      "\n",
      "------------------------- Epoch 20 -------------------------\n",
      "Training loss: 0.0909\n",
      "Validation loss: 0.0309\n",
      "\n"
     ]
    },
    {
     "data": {
      "text/plain": [
       "([0.31893681585788725,\n",
       "  0.2742508664727211,\n",
       "  0.23005104809999466,\n",
       "  0.2086819216609001,\n",
       "  0.2042704254388809,\n",
       "  0.17286338806152343,\n",
       "  0.17290397435426713,\n",
       "  0.15649396926164627,\n",
       "  0.14779044240713118,\n",
       "  0.12724338844418526,\n",
       "  0.1322614885866642,\n",
       "  0.1370787113904953,\n",
       "  0.1113824002444744,\n",
       "  0.1073179230093956,\n",
       "  0.10734471753239631,\n",
       "  0.10244339779019355,\n",
       "  0.1000744141638279,\n",
       "  0.09091647490859031,\n",
       "  0.08424308374524117,\n",
       "  0.09091614037752152],\n",
       " [0.1872636377811432,\n",
       "  0.17253383249044418,\n",
       "  0.19124091044068336,\n",
       "  0.21805270574986935,\n",
       "  0.08317366428673267,\n",
       "  0.2621913515031338,\n",
       "  0.10272263549268246,\n",
       "  0.09160170890390873,\n",
       "  0.09701055753976107,\n",
       "  0.04709682706743479,\n",
       "  0.04286977951414883,\n",
       "  0.07919076457619667,\n",
       "  0.1446087220683694,\n",
       "  0.15346295107156038,\n",
       "  0.02651057788170874,\n",
       "  0.046494570560753345,\n",
       "  0.04471725504845381,\n",
       "  0.032622088212519884,\n",
       "  0.03011154057458043,\n",
       "  0.030866208486258984])"
      ]
     },
     "execution_count": 14,
     "metadata": {},
     "output_type": "execute_result"
    }
   ],
   "source": [
    "opt = torch.optim.SGD(model.parameters(), lr=1e-3)\n",
    "fit(model=model, opt=opt, loss_fn=loss_fn, train_data_loader=trainloader, val_data_loader=testloader, epochs=20, print_every=2)"
   ]
  },
  {
   "cell_type": "code",
   "execution_count": null,
   "metadata": {},
   "outputs": [],
   "source": []
  }
 ],
 "metadata": {
  "interpreter": {
   "hash": "8b4b3b5ace3cf92d28d25fb90b479256c9ca07128d7bf850a675f6d71c26ca0e"
  },
  "kernelspec": {
   "display_name": "Python 3.9.7 ('parksim')",
   "language": "python",
   "name": "python3"
  },
  "language_info": {
   "codemirror_mode": {
    "name": "ipython",
    "version": 3
   },
   "file_extension": ".py",
   "mimetype": "text/x-python",
   "name": "python",
   "nbconvert_exporter": "python",
   "pygments_lexer": "ipython3",
   "version": "3.9.7"
  },
  "orig_nbformat": 4
 },
 "nbformat": 4,
 "nbformat_minor": 2
}
