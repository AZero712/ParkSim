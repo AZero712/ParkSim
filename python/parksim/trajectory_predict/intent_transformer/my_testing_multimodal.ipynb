{
 "cells": [
  {
   "cell_type": "code",
   "execution_count": 1,
   "metadata": {},
   "outputs": [],
   "source": [
    "%load_ext autoreload\n",
    "%autoreload 2\n",
    "\n",
    "from pathlib import Path\n",
    "import torch\n",
    "\n",
    "import matplotlib.pyplot as plt\n",
    "\n",
    "from my_dlp.dataset import Dataset\n",
    "from my_dlp.visualizer import Visualizer, SemanticVisualizer\n",
    "from PIL import Image\n",
    "\n",
    "from parksim.intent_predict.cnn.data_processing.utils import CNNDataProcessor\n",
    "from parksim.trajectory_predict.data_processing.utils import TransformerDataProcessor\n",
    "\n",
    "from parksim.intent_predict.cnn.models.small_regularized_cnn import SmallRegularizedCNN\n",
    "from parksim.trajectory_predict.intent_transformer.models.trajectory_predictor_vision_transformer import TrajectoryPredictorVisionTransformer\n",
    "from parksim.trajectory_predict.intent_transformer.models.trajectory_predictor_with_decoder_intent_cross_attention import TrajectoryPredictorWithDecoderIntentCrossAttention\n",
    "\n",
    "from parksim.trajectory_predict.intent_transformer.multimodal_prediction import predict_multimodal\n",
    "\n",
    "DEVICE = \"cuda\" if torch.cuda.is_available() else \"cpu\""
   ]
  },
  {
   "cell_type": "code",
   "execution_count": 2,
   "metadata": {},
   "outputs": [],
   "source": [
    "ds = Dataset()\n",
    "\n",
    "home_path = str(Path.home()) \n",
    "ds.load(home_path + '/dlp-dataset/data/DJI_0012')"
   ]
  },
  {
   "cell_type": "code",
   "execution_count": 3,
   "metadata": {},
   "outputs": [
    {
     "name": "stderr",
     "output_type": "stream",
     "text": [
      "Lightning automatically upgraded your loaded checkpoint from v1.6.1 to v2.1.3. To apply the upgrade to your files permanently, run `python -m pytorch_lightning.utilities.upgrade_checkpoint ../../data/epoch=52-val_total_loss=0.0458.ckpt`\n"
     ]
    },
    {
     "data": {
      "text/plain": [
       "SmallRegularizedCNN(\n",
       "  (image_layer): Sequential(\n",
       "    (0): Sequential(\n",
       "      (0): Conv2d(3, 8, kernel_size=(7, 7), stride=(1, 1))\n",
       "      (1): BatchNorm2d(8, eps=1e-05, momentum=0.1, affine=True, track_running_stats=True)\n",
       "      (2): Dropout(p=0.2, inplace=False)\n",
       "      (3): LeakyReLU(negative_slope=0.01, inplace=True)\n",
       "      (4): MaxPool2d(kernel_size=2, stride=2, padding=0, dilation=1, ceil_mode=False)\n",
       "    )\n",
       "    (1): Sequential(\n",
       "      (0): Conv2d(8, 8, kernel_size=(5, 5), stride=(1, 1))\n",
       "      (1): BatchNorm2d(8, eps=1e-05, momentum=0.1, affine=True, track_running_stats=True)\n",
       "      (2): Dropout(p=0.2, inplace=False)\n",
       "      (3): LeakyReLU(negative_slope=0.01, inplace=True)\n",
       "      (4): MaxPool2d(kernel_size=2, stride=2, padding=0, dilation=1, ceil_mode=False)\n",
       "    )\n",
       "    (2): Sequential(\n",
       "      (0): Conv2d(8, 3, kernel_size=(3, 3), stride=(1, 1))\n",
       "      (1): BatchNorm2d(3, eps=1e-05, momentum=0.1, affine=True, track_running_stats=True)\n",
       "      (2): Dropout(p=0.2, inplace=False)\n",
       "      (3): LeakyReLU(negative_slope=0.01, inplace=True)\n",
       "      (4): MaxPool2d(kernel_size=2, stride=2, padding=0, dilation=1, ceil_mode=False)\n",
       "    )\n",
       "  )\n",
       "  (flatten_layer): Sequential(\n",
       "    (0): Flatten(start_dim=1, end_dim=-1)\n",
       "  )\n",
       "  (linear_layer1): Sequential(\n",
       "    (0): Linear(in_features=6632, out_features=100, bias=True)\n",
       "    (1): BatchNorm1d(100, eps=1e-05, momentum=0.1, affine=True, track_running_stats=True)\n",
       "    (2): Dropout(p=0.2, inplace=False)\n",
       "  )\n",
       "  (linear_layer2): Sequential(\n",
       "    (0): Linear(in_features=100, out_features=1, bias=True)\n",
       "  )\n",
       ")"
      ]
     },
     "execution_count": 3,
     "metadata": {},
     "output_type": "execute_result"
    }
   ],
   "source": [
    "MODEL_PATH = '/home/azero/ParkSim/python/parksim/data/epoch=52-val_total_loss=0.0458.ckpt'\n",
    "traj_model = TrajectoryPredictorWithDecoderIntentCrossAttention.load_from_checkpoint(MODEL_PATH)\n",
    "traj_model.eval().to(DEVICE)\n",
    "mode='v1'\n",
    "\n",
    "INTENT_MODEL_PATH = '/home/azero/ParkSim/python/parksim/data/smallRegularizedCNN_L0.068_01-29-2022_19-50-35.pth'\n",
    "intent_model = SmallRegularizedCNN()\n",
    "model_state = torch.load(INTENT_MODEL_PATH, map_location=DEVICE)\n",
    "intent_model.load_state_dict(model_state)\n",
    "intent_model.eval().to(DEVICE)"
   ]
  },
  {
   "cell_type": "code",
   "execution_count": 4,
   "metadata": {},
   "outputs": [],
   "source": [
    "intent_extractor = CNNDataProcessor(ds=ds)\n",
    "traj_extractor = TransformerDataProcessor(ds=ds)"
   ]
  },
  {
   "cell_type": "code",
   "execution_count": 5,
   "metadata": {},
   "outputs": [],
   "source": [
    "def draw_prediction(multimodal_prediction, inst_centric_view, colors, intent_offsets, save_image_name=\"test.png\"):\n",
    "    sensing_limit = 20\n",
    "    img_size = inst_centric_view.size[0] / 2\n",
    "\n",
    "    plt.cla()\n",
    "\n",
    "    plt.imshow(inst_centric_view)\n",
    "\n",
    "    y_label, _, _, _ = multimodal_prediction[0]\n",
    "\n",
    "    traj_future_pixel = y_label[0, :, :2].detach().cpu().numpy() / \\\n",
    "        sensing_limit*img_size + img_size\n",
    "\n",
    "    plt.plot(traj_future_pixel[:, 0], traj_future_pixel[:, 1], 'wo', linewidth=2, markersize=2)\n",
    "\n",
    "    for prediction, color, offset in zip(reversed(multimodal_prediction), reversed(colors), reversed(intent_offsets)):\n",
    "\n",
    "        _, pred, intent, probability = prediction\n",
    "\n",
    "        intent_pixel = intent[0, 0, :2].detach().cpu().numpy() / \\\n",
    "            sensing_limit*img_size + img_size\n",
    "\n",
    "        traj_pred_pixel = pred[0, :, :2].detach().cpu().numpy() / \\\n",
    "            sensing_limit*img_size + img_size\n",
    "\n",
    "        plt.plot(traj_pred_pixel[:, 0], traj_pred_pixel[:, 1],\n",
    "                 '^', color=color, linewidth=2, markersize=2)\n",
    "        plt.plot(intent_pixel[0], intent_pixel[1],\n",
    "                 '*', color=color, markersize=8)\n",
    "\n",
    "        plt.text(intent_pixel[0]+offset[0], intent_pixel[1]+offset[1],\n",
    "                 f'{probability:.2f}', backgroundcolor=(170/255., 170/255., 170/255., 0.53), color='black', size=7, weight='bold')\n",
    "        print(color, probability)\n",
    "    # 保存图片\n",
    "    plt.savefig(\"/home/azero/ParkSim/python/parksim/data/temp\" + save_image_name)\n",
    "    plt.axis('off')\n"
   ]
  },
  {
   "cell_type": "code",
   "execution_count": 6,
   "metadata": {},
   "outputs": [
    {
     "name": "stdout",
     "output_type": "stream",
     "text": [
      "green 0.21372929\n",
      "green 0.2533318\n",
      "green 0.2580707\n",
      "green 0.23634303\n",
      "green 0.21095708\n",
      "green 0.20928831\n",
      "green 0.17237982\n",
      "green 0.15176608\n",
      "green 0.14641793\n",
      "green 0.16496524\n",
      "green 0.1796501\n",
      "green 0.16070043\n",
      "green 0.16740306\n",
      "green 0.1679374\n",
      "green 0.18767563\n",
      "green 0.17983845\n",
      "green 0.15948884\n",
      "green 0.15477735\n",
      "green 0.16783817\n",
      "green 0.20538883\n",
      "green 0.22484358\n",
      "green 0.26294044\n",
      "green 0.23070052\n",
      "green 0.20575553\n",
      "green 0.23419614\n",
      "green 0.25062218\n"
     ]
    },
    {
     "ename": "KeyboardInterrupt",
     "evalue": "",
     "output_type": "error",
     "traceback": [
      "\u001b[0;31m---------------------------------------------------------------------------\u001b[0m",
      "\u001b[0;31mKeyboardInterrupt\u001b[0m                         Traceback (most recent call last)",
      "Cell \u001b[0;32mIn[6], line 11\u001b[0m\n\u001b[1;32m      9\u001b[0m frame \u001b[38;5;241m=\u001b[39m ds\u001b[38;5;241m.\u001b[39mget(\u001b[38;5;124m'\u001b[39m\u001b[38;5;124mframe\u001b[39m\u001b[38;5;124m'\u001b[39m, frame_token)\n\u001b[1;32m     10\u001b[0m \u001b[38;5;28;01mfor\u001b[39;00m inst_token \u001b[38;5;129;01min\u001b[39;00m frame[\u001b[38;5;124m'\u001b[39m\u001b[38;5;124minstances\u001b[39m\u001b[38;5;124m'\u001b[39m]:\n\u001b[0;32m---> 11\u001b[0m     multimodal_prediction, inst_centric_view \u001b[38;5;241m=\u001b[39m \u001b[43mpredict_multimodal\u001b[49m\u001b[43m(\u001b[49m\n\u001b[1;32m     12\u001b[0m \u001b[43m        \u001b[49m\u001b[43mds\u001b[49m\u001b[43m,\u001b[49m\u001b[43m \u001b[49m\u001b[43mtraj_model\u001b[49m\u001b[43m,\u001b[49m\u001b[43m \u001b[49m\u001b[43mintent_model\u001b[49m\u001b[43m,\u001b[49m\u001b[43m \u001b[49m\u001b[43mtraj_extractor\u001b[49m\u001b[43m,\u001b[49m\u001b[43m \u001b[49m\u001b[43mintent_extractor\u001b[49m\u001b[43m,\u001b[49m\u001b[43m \u001b[49m\u001b[43minst_token\u001b[49m\u001b[43m,\u001b[49m\u001b[43m \u001b[49m\u001b[38;5;28;43mlen\u001b[39;49m\u001b[43m(\u001b[49m\u001b[43mds\u001b[49m\u001b[38;5;241;43m.\u001b[39;49m\u001b[43mframes\u001b[49m\u001b[38;5;241;43m.\u001b[39;49m\u001b[43mkeys\u001b[49m\u001b[43m(\u001b[49m\u001b[43m)\u001b[49m\u001b[43m)\u001b[49m\u001b[38;5;241;43m-\u001b[39;49m\u001b[38;5;241;43m1\u001b[39;49m\u001b[43m,\u001b[49m\u001b[43m \u001b[49m\u001b[38;5;241;43m1\u001b[39;49m\u001b[43m,\u001b[49m\u001b[43m \u001b[49m\u001b[43mmode\u001b[49m\u001b[38;5;241;43m=\u001b[39;49m\u001b[43mmode\u001b[49m\u001b[43m,\u001b[49m\u001b[43m \u001b[49m\u001b[43mis_get_trajectory_future\u001b[49m\u001b[38;5;241;43m=\u001b[39;49m\u001b[38;5;28;43;01mFalse\u001b[39;49;00m\u001b[43m)\u001b[49m\n\u001b[1;32m     13\u001b[0m     ds\u001b[38;5;241m.\u001b[39mappend_agent_pred_dpose(inst_token, multimodal_prediction[\u001b[38;5;241m0\u001b[39m][\u001b[38;5;241m1\u001b[39m][\u001b[38;5;241m0\u001b[39m][\u001b[38;5;241m9\u001b[39m]\u001b[38;5;241m.\u001b[39mdetach()\u001b[38;5;241m.\u001b[39mcpu()\u001b[38;5;241m.\u001b[39mnumpy())\n\u001b[1;32m     14\u001b[0m     instance \u001b[38;5;241m=\u001b[39m ds\u001b[38;5;241m.\u001b[39mget(\u001b[38;5;124m'\u001b[39m\u001b[38;5;124minstance\u001b[39m\u001b[38;5;124m'\u001b[39m, inst_token)\n",
      "File \u001b[0;32m~/ParkSim/python/parksim/trajectory_predict/intent_transformer/multimodal_prediction.py:109\u001b[0m, in \u001b[0;36mpredict_multimodal\u001b[0;34m(ds, traj_model, intent_model, traj_extractor, intent_extractor, inst_token, inst_idx, n, mode, is_get_trajectory_future)\u001b[0m\n\u001b[1;32m    106\u001b[0m predicted_trajectories \u001b[38;5;241m=\u001b[39m []\n\u001b[1;32m    107\u001b[0m \u001b[38;5;28;01mfor\u001b[39;00m probability, global_intent_pose \u001b[38;5;129;01min\u001b[39;00m top_n:\n\u001b[1;32m    108\u001b[0m     \u001b[38;5;66;03m#TODO: do something with probability?\u001b[39;00m\n\u001b[0;32m--> 109\u001b[0m     img, X, y_label, intent \u001b[38;5;241m=\u001b[39m \u001b[43mget_data_for_instance\u001b[49m\u001b[43m(\u001b[49m\u001b[43minst_token\u001b[49m\u001b[43m,\u001b[49m\u001b[43m \u001b[49m\u001b[43minst_idx\u001b[49m\u001b[43m,\u001b[49m\u001b[43m \u001b[49m\u001b[43minstance\u001b[49m\u001b[43m[\u001b[49m\u001b[38;5;124;43m'\u001b[39;49m\u001b[38;5;124;43mframe_token\u001b[39;49m\u001b[38;5;124;43m'\u001b[39;49m\u001b[43m]\u001b[49m\u001b[43m,\u001b[49m\u001b[43m \u001b[49m\u001b[43mtraj_extractor\u001b[49m\u001b[43m,\u001b[49m\u001b[43m \u001b[49m\u001b[43mds\u001b[49m\u001b[43m,\u001b[49m\u001b[43m \u001b[49m\u001b[43mglobal_intent_pose\u001b[49m\u001b[43m,\u001b[49m\u001b[43m \u001b[49m\u001b[43mis_get_trajectory_future\u001b[49m\u001b[38;5;241;43m=\u001b[39;49m\u001b[43mis_get_trajectory_future\u001b[49m\u001b[43m)\u001b[49m\n\u001b[1;32m    111\u001b[0m     \u001b[38;5;28;01mwith\u001b[39;00m torch\u001b[38;5;241m.\u001b[39mno_grad():\n\u001b[1;32m    112\u001b[0m         \u001b[38;5;28;01mif\u001b[39;00m mode\u001b[38;5;241m==\u001b[39m\u001b[38;5;124m'\u001b[39m\u001b[38;5;124mv2\u001b[39m\u001b[38;5;124m'\u001b[39m:\n",
      "File \u001b[0;32m~/ParkSim/python/parksim/trajectory_predict/intent_transformer/multimodal_prediction.py:190\u001b[0m, in \u001b[0;36mget_data_for_instance\u001b[0;34m(inst_token, inst_idx, frame_token, extractor, ds, global_intent_pose, stride, history, future, img_size, is_get_trajectory_future)\u001b[0m\n\u001b[1;32m    186\u001b[0m trajectory_history\u001b[38;5;241m.\u001b[39mappend(Tensor(\n\u001b[1;32m    187\u001b[0m     [translated_pos[\u001b[38;5;241m0\u001b[39m], translated_pos[\u001b[38;5;241m1\u001b[39m], instance[\u001b[38;5;124m'\u001b[39m\u001b[38;5;124mheading\u001b[39m\u001b[38;5;124m'\u001b[39m] \u001b[38;5;241m-\u001b[39m curr_pose[\u001b[38;5;241m2\u001b[39m]]))\n\u001b[1;32m    189\u001b[0m \u001b[38;5;66;03m# ======= Uncomment the lines below to generate image history\u001b[39;00m\n\u001b[0;32m--> 190\u001b[0m img_frame \u001b[38;5;241m=\u001b[39m \u001b[43mextractor\u001b[49m\u001b[38;5;241;43m.\u001b[39;49m\u001b[43mvis\u001b[49m\u001b[38;5;241;43m.\u001b[39;49m\u001b[43mplot_frame\u001b[49m\u001b[43m(\u001b[49m\u001b[43minstance\u001b[49m\u001b[43m[\u001b[49m\u001b[38;5;124;43m'\u001b[39;49m\u001b[38;5;124;43mframe_token\u001b[39;49m\u001b[38;5;124;43m'\u001b[39;49m\u001b[43m]\u001b[49m\u001b[43m)\u001b[49m\n\u001b[1;32m    191\u001b[0m image_feature \u001b[38;5;241m=\u001b[39m extractor\u001b[38;5;241m.\u001b[39mvis\u001b[38;5;241m.\u001b[39minst_centric(\n\u001b[1;32m    192\u001b[0m     img_frame, instance[\u001b[38;5;124m'\u001b[39m\u001b[38;5;124minstance_token\u001b[39m\u001b[38;5;124m'\u001b[39m])\n\u001b[1;32m    193\u001b[0m image_feature \u001b[38;5;241m=\u001b[39m extractor\u001b[38;5;241m.\u001b[39mlabel_target_spot(\n\u001b[1;32m    194\u001b[0m     inst_token, image_feature, curr_pose)\n",
      "File \u001b[0;32m~/dlp-dataset/dlp/visualizer.py:437\u001b[0m, in \u001b[0;36mSemanticVisualizer.plot_frame\u001b[0;34m(self, frame_token)\u001b[0m\n\u001b[1;32m    434\u001b[0m img_draw \u001b[38;5;241m=\u001b[39m ImageDraw\u001b[38;5;241m.\u001b[39mDraw(img_frame)\n\u001b[1;32m    436\u001b[0m \u001b[38;5;66;03m# Then plot everything on the main img\u001b[39;00m\n\u001b[0;32m--> 437\u001b[0m \u001b[38;5;28;43mself\u001b[39;49m\u001b[38;5;241;43m.\u001b[39;49m\u001b[43mplot_spots\u001b[49m\u001b[43m(\u001b[49m\u001b[43moccupy_mask\u001b[49m\u001b[38;5;241;43m=\u001b[39;49m\u001b[43moccupy_mask\u001b[49m\u001b[43m,\u001b[49m\u001b[43m \u001b[49m\u001b[43mdraw\u001b[49m\u001b[38;5;241;43m=\u001b[39;49m\u001b[43mimg_draw\u001b[49m\u001b[43m,\u001b[49m\u001b[43m \u001b[49m\u001b[43mfill\u001b[49m\u001b[38;5;241;43m=\u001b[39;49m\u001b[38;5;28;43mself\u001b[39;49m\u001b[38;5;241;43m.\u001b[39;49m\u001b[43mcolor\u001b[49m\u001b[43m[\u001b[49m\u001b[38;5;124;43m'\u001b[39;49m\u001b[38;5;124;43mspot\u001b[39;49m\u001b[38;5;124;43m'\u001b[39;49m\u001b[43m]\u001b[49m\u001b[43m)\u001b[49m\n\u001b[1;32m    438\u001b[0m \u001b[38;5;28mself\u001b[39m\u001b[38;5;241m.\u001b[39mplot_obstacles(draw\u001b[38;5;241m=\u001b[39mimg_draw, fill\u001b[38;5;241m=\u001b[39m\u001b[38;5;28mself\u001b[39m\u001b[38;5;241m.\u001b[39mcolor[\u001b[38;5;124m'\u001b[39m\u001b[38;5;124mobstacle\u001b[39m\u001b[38;5;124m'\u001b[39m], scene_token\u001b[38;5;241m=\u001b[39mframe[\u001b[38;5;124m'\u001b[39m\u001b[38;5;124mscene_token\u001b[39m\u001b[38;5;124m'\u001b[39m])\n\u001b[1;32m    439\u001b[0m \u001b[38;5;28mself\u001b[39m\u001b[38;5;241m.\u001b[39mplot_agents(draw\u001b[38;5;241m=\u001b[39mimg_draw, fill\u001b[38;5;241m=\u001b[39m\u001b[38;5;28mself\u001b[39m\u001b[38;5;241m.\u001b[39mcolor[\u001b[38;5;124m'\u001b[39m\u001b[38;5;124magent\u001b[39m\u001b[38;5;124m'\u001b[39m], frame_token\u001b[38;5;241m=\u001b[39mframe_token, steps\u001b[38;5;241m=\u001b[39m\u001b[38;5;28mself\u001b[39m\u001b[38;5;241m.\u001b[39msteps, stride\u001b[38;5;241m=\u001b[39m\u001b[38;5;28mself\u001b[39m\u001b[38;5;241m.\u001b[39mstride)\n",
      "File \u001b[0;32m~/dlp-dataset/dlp/visualizer.py:412\u001b[0m, in \u001b[0;36mSemanticVisualizer.plot_spots\u001b[0;34m(self, occupy_mask, draw, fill)\u001b[0m\n\u001b[1;32m    408\u001b[0m p_coords_pixel \u001b[38;5;241m=\u001b[39m (np\u001b[38;5;241m.\u001b[39marray(p_coords_ground) \u001b[38;5;241m/\u001b[39m \u001b[38;5;28mself\u001b[39m\u001b[38;5;241m.\u001b[39mres)\u001b[38;5;241m.\u001b[39mastype(\u001b[38;5;124m'\u001b[39m\u001b[38;5;124mint32\u001b[39m\u001b[38;5;124m'\u001b[39m)\n\u001b[1;32m    410\u001b[0m \u001b[38;5;66;03m# Detect whether this spot is occupied or not\u001b[39;00m\n\u001b[1;32m    411\u001b[0m \u001b[38;5;66;03m# Only plot the spot if it is empty\u001b[39;00m\n\u001b[0;32m--> 412\u001b[0m center \u001b[38;5;241m=\u001b[39m \u001b[43mnp\u001b[49m\u001b[38;5;241;43m.\u001b[39;49m\u001b[43maverage\u001b[49m\u001b[43m(\u001b[49m\u001b[43mp_coords_pixel\u001b[49m\u001b[43m,\u001b[49m\u001b[43m \u001b[49m\u001b[43maxis\u001b[49m\u001b[38;5;241;43m=\u001b[39;49m\u001b[38;5;241;43m0\u001b[39;49m\u001b[43m)\u001b[49m\u001b[38;5;241m.\u001b[39mastype(\u001b[38;5;124m'\u001b[39m\u001b[38;5;124mint32\u001b[39m\u001b[38;5;124m'\u001b[39m)\n\u001b[1;32m    413\u001b[0m \u001b[38;5;28;01mif\u001b[39;00m \u001b[38;5;28mself\u001b[39m\u001b[38;5;241m.\u001b[39mspot_available(occupy_mask, center, size\u001b[38;5;241m=\u001b[39m\u001b[38;5;241m8\u001b[39m):\n\u001b[1;32m    414\u001b[0m     draw\u001b[38;5;241m.\u001b[39mpolygon([\u001b[38;5;28mtuple\u001b[39m(p) \u001b[38;5;28;01mfor\u001b[39;00m p \u001b[38;5;129;01min\u001b[39;00m p_coords_pixel], fill\u001b[38;5;241m=\u001b[39mfill)\n",
      "File \u001b[0;32m<__array_function__ internals>:5\u001b[0m, in \u001b[0;36maverage\u001b[0;34m(*args, **kwargs)\u001b[0m\n",
      "File \u001b[0;32m~/miniconda3/envs/NNDE/lib/python3.9/site-packages/numpy/lib/function_base.py:380\u001b[0m, in \u001b[0;36maverage\u001b[0;34m(a, axis, weights, returned)\u001b[0m\n\u001b[1;32m    377\u001b[0m a \u001b[38;5;241m=\u001b[39m np\u001b[38;5;241m.\u001b[39masanyarray(a)\n\u001b[1;32m    379\u001b[0m \u001b[38;5;28;01mif\u001b[39;00m weights \u001b[38;5;129;01mis\u001b[39;00m \u001b[38;5;28;01mNone\u001b[39;00m:\n\u001b[0;32m--> 380\u001b[0m     avg \u001b[38;5;241m=\u001b[39m \u001b[43ma\u001b[49m\u001b[38;5;241;43m.\u001b[39;49m\u001b[43mmean\u001b[49m(axis)\n\u001b[1;32m    381\u001b[0m     scl \u001b[38;5;241m=\u001b[39m avg\u001b[38;5;241m.\u001b[39mdtype\u001b[38;5;241m.\u001b[39mtype(a\u001b[38;5;241m.\u001b[39msize\u001b[38;5;241m/\u001b[39mavg\u001b[38;5;241m.\u001b[39msize)\n\u001b[1;32m    382\u001b[0m \u001b[38;5;28;01melse\u001b[39;00m:\n",
      "\u001b[0;31mKeyboardInterrupt\u001b[0m: "
     ]
    },
    {
     "data": {
      "image/png": "[encoded data removed]",
      "text/plain": [
       "<Figure size 800x600 with 1 Axes>"
      ]
     },
     "metadata": {},
     "output_type": "display_data"
    }
   ],
   "source": [
    "import os\n",
    "colors = ['darkviolet', 'C1', 'green']\n",
    "intent_offsets = [[-50,0], [0,30], [-50,0]]\n",
    "os.makedirs(f'/home/azero/ParkSim/python/parksim/data/temp/test', exist_ok=True)\n",
    "smt_vis = SemanticVisualizer(ds, spot_margin=0.3, resolution=0.1, sensing_limit=20, steps=10, stride=10)\n",
    "scene = ds.get('scene', ds.list_scenes()[0])\n",
    "for i in range(1000):\n",
    "    frame_token = scene['last_frame']\n",
    "    frame = ds.get('frame', frame_token)\n",
    "    for inst_token in frame['instances']:\n",
    "        multimodal_prediction, inst_centric_view = predict_multimodal(\n",
    "            ds, traj_model, intent_model, traj_extractor, intent_extractor, inst_token, len(ds.frames.keys())-1, 1, mode=mode, is_get_trajectory_future=False)\n",
    "        ds.append_agent_pred_dpose(inst_token, multimodal_prediction[0][1][0][0].detach().cpu().numpy())\n",
    "        instance = ds.get('instance', inst_token)\n",
    "        agent_token = instance['agent_token']\n",
    "        draw_prediction(multimodal_prediction, inst_centric_view, colors, intent_offsets, save_image_name=f'{agent_token}_{i}.png')\n",
    "    ds.update()\n",
    "    img_frame = smt_vis.plot_frame(frame['frame_token'])\n",
    "    img_frame.transpose(Image.FLIP_TOP_BOTTOM).save(f'/home/azero/ParkSim/python/parksim/data/temp/test/{i}.png')"
   ]
  },
  {
   "cell_type": "markdown",
   "metadata": {},
   "source": [
    "# Example 1"
   ]
  },
  {
   "cell_type": "code",
   "execution_count": null,
   "metadata": {},
   "outputs": [],
   "source": [
    "scene = ds.get('scene', ds.list_scenes()[0])\n",
    "frame_index = -1\n",
    "frame = ds.get_future_frames(scene['first_frame'],timesteps=100)[frame_index]\n",
    "inst_token = frame['instances'][9]\n",
    "print(frame)"
   ]
  },
  {
   "cell_type": "code",
   "execution_count": null,
   "metadata": {},
   "outputs": [],
   "source": [
    "multimodal_prediction, inst_centric_view = predict_multimodal(\n",
    "    ds, traj_model, intent_model, traj_extractor, intent_extractor, inst_token, frame_index, 1, mode=mode)\n"
   ]
  },
  {
   "cell_type": "code",
   "execution_count": null,
   "metadata": {},
   "outputs": [],
   "source": [
    "print(multimodal_prediction[0][1][0][0].detach().cpu().numpy())"
   ]
  },
  {
   "cell_type": "code",
   "execution_count": null,
   "metadata": {},
   "outputs": [],
   "source": [
    "colors = ['darkviolet', 'C1', 'green']\n",
    "intent_offsets = [[-50,0], [0,30], [-50,0]]\n",
    "\n",
    "draw_prediction(multimodal_prediction, inst_centric_view,\n",
    "                colors, intent_offsets)\n"
   ]
  },
  {
   "cell_type": "markdown",
   "metadata": {},
   "source": [
    "# Example 2"
   ]
  },
  {
   "cell_type": "code",
   "execution_count": null,
   "metadata": {},
   "outputs": [],
   "source": [
    "scene = ds.get('scene', ds.list_scenes()[0])\n",
    "frame_index = 2500\n",
    "frame = ds.get_future_frames(scene['first_frame'], timesteps=2700)[frame_index]\n",
    "inst_token = frame['instances'][33]\n"
   ]
  },
  {
   "cell_type": "code",
   "execution_count": null,
   "metadata": {},
   "outputs": [],
   "source": [
    "multimodal_prediction, inst_centric_view = predict_multimodal(\n",
    "    ds, traj_model, intent_model, traj_extractor, intent_extractor, inst_token, frame_index, 3, mode=mode)\n"
   ]
  },
  {
   "cell_type": "code",
   "execution_count": null,
   "metadata": {},
   "outputs": [],
   "source": [
    "colors = ['darkviolet', 'C1', 'green']\n",
    "intent_offsets = [[-50, 0], [0, -30], [-50, 0]]\n",
    "\n",
    "draw_prediction(multimodal_prediction, inst_centric_view,\n",
    "                colors, intent_offsets)\n"
   ]
  },
  {
   "cell_type": "markdown",
   "metadata": {},
   "source": [
    "# Example 3"
   ]
  },
  {
   "cell_type": "code",
   "execution_count": null,
   "metadata": {},
   "outputs": [],
   "source": [
    "# scene = ds.get('scene', ds.list_scenes()[0])\n",
    "# frame_index = 5900\n",
    "# frame = ds.get_future_frames(scene['first_frame'], timesteps=6000)[frame_index]\n",
    "# inst_token = frame['instances'][37]\n",
    "\n",
    "scene = ds.get('scene', ds.list_scenes()[0])\n",
    "frame_index = 5900\n",
    "frame = ds.get_future_frames(scene['first_frame'], timesteps=6000)[frame_index]\n",
    "inst_token = frame['instances'][20]\n"
   ]
  },
  {
   "cell_type": "code",
   "execution_count": null,
   "metadata": {},
   "outputs": [],
   "source": [
    "multimodal_prediction, inst_centric_view = predict_multimodal(\n",
    "    ds, traj_model, intent_model, traj_extractor, intent_extractor, inst_token, frame_index, 3, mode=mode)\n"
   ]
  },
  {
   "cell_type": "code",
   "execution_count": null,
   "metadata": {},
   "outputs": [],
   "source": [
    "colors = ['darkviolet', 'C1', 'green']\n",
    "intent_offsets = [[-50, 0], [0, -30], [-50, 0]]\n",
    "\n",
    "draw_prediction(multimodal_prediction, inst_centric_view,\n",
    "                colors, intent_offsets)\n"
   ]
  },
  {
   "cell_type": "markdown",
   "metadata": {},
   "source": [
    "# Example 4"
   ]
  },
  {
   "cell_type": "code",
   "execution_count": null,
   "metadata": {},
   "outputs": [],
   "source": [
    "scene = ds.get('scene', ds.list_scenes()[0])\n",
    "frame_index = 4000\n",
    "frame = ds.get_future_frames(scene['first_frame'], timesteps=6000)[frame_index]\n",
    "inst_token = frame['instances'][36]\n"
   ]
  },
  {
   "cell_type": "code",
   "execution_count": null,
   "metadata": {},
   "outputs": [],
   "source": [
    "multimodal_prediction, inst_centric_view = predict_multimodal(\n",
    "    ds, traj_model, intent_model, traj_extractor, intent_extractor, inst_token, frame_index, 3, mode=mode)\n"
   ]
  },
  {
   "cell_type": "code",
   "execution_count": null,
   "metadata": {},
   "outputs": [],
   "source": [
    "colors = ['darkviolet', 'C1', 'green']\n",
    "intent_offsets = [[-50, 0], [0, -30], [-50, 0]]\n",
    "\n",
    "draw_prediction(multimodal_prediction, inst_centric_view,\n",
    "                colors, intent_offsets)\n"
   ]
  },
  {
   "cell_type": "markdown",
   "metadata": {},
   "source": [
    "# Example 5"
   ]
  },
  {
   "cell_type": "code",
   "execution_count": null,
   "metadata": {},
   "outputs": [],
   "source": [
    "scene = ds.get('scene', ds.list_scenes()[0])\n",
    "frame_index = 100\n",
    "frame = ds.get_future_frames(scene['first_frame'], timesteps=6000)[frame_index]\n",
    "inst_token = frame['instances'][6]\n"
   ]
  },
  {
   "cell_type": "code",
   "execution_count": null,
   "metadata": {},
   "outputs": [],
   "source": [
    "multimodal_prediction, inst_centric_view = predict_multimodal(\n",
    "    ds, traj_model, intent_model, traj_extractor, intent_extractor, inst_token, frame_index, 3, mode=mode)\n"
   ]
  },
  {
   "cell_type": "code",
   "execution_count": null,
   "metadata": {},
   "outputs": [],
   "source": [
    "colors = ['darkviolet', 'C1', 'green']\n",
    "intent_offsets = [[-50, 0], [0, -30], [-50, 0]]\n",
    "\n",
    "draw_prediction(multimodal_prediction, inst_centric_view,\n",
    "                colors, intent_offsets)\n"
   ]
  },
  {
   "cell_type": "markdown",
   "metadata": {},
   "source": [
    "# Example 6"
   ]
  },
  {
   "cell_type": "code",
   "execution_count": null,
   "metadata": {},
   "outputs": [],
   "source": [
    "scene = ds.get('scene', ds.list_scenes()[0])\n",
    "frame_index = 1800\n",
    "frame = ds.get_future_frames(scene['first_frame'], timesteps=6000)[frame_index]\n",
    "# inst_token = frame['instances'][6]\n",
    "inst_token = ds.get_inst_at_location(frame_token=frame['frame_token'], coords=[70, 30])[\n",
    "    'instance_token']\n"
   ]
  },
  {
   "cell_type": "code",
   "execution_count": null,
   "metadata": {},
   "outputs": [],
   "source": [
    "multimodal_prediction, inst_centric_view = predict_multimodal(\n",
    "    ds, traj_model, intent_model, traj_extractor, intent_extractor, inst_token, frame_index, 3, mode=mode)\n"
   ]
  },
  {
   "cell_type": "code",
   "execution_count": null,
   "metadata": {},
   "outputs": [],
   "source": [
    "colors = ['darkviolet', 'C1', 'green']\n",
    "intent_offsets = [[-50, 0], [-30, 30], [-50, 0]]\n",
    "\n",
    "draw_prediction(multimodal_prediction, inst_centric_view,\n",
    "                colors, intent_offsets)\n"
   ]
  },
  {
   "cell_type": "markdown",
   "metadata": {},
   "source": [
    "# Example 7"
   ]
  },
  {
   "cell_type": "code",
   "execution_count": null,
   "metadata": {},
   "outputs": [],
   "source": [
    "scene = ds.get('scene', ds.list_scenes()[0])\n",
    "frame_index = 7010\n",
    "frame = ds.get_future_frames(scene['first_frame'], timesteps=7100)[frame_index]\n",
    "# inst_token = frame['instances'][6]\n",
    "inst_token = ds.get_inst_at_location(frame_token=frame['frame_token'], coords=[15, 30])[\n",
    "    'instance_token']\n"
   ]
  },
  {
   "cell_type": "code",
   "execution_count": null,
   "metadata": {},
   "outputs": [],
   "source": [
    "multimodal_prediction, inst_centric_view = predict_multimodal(\n",
    "    ds, traj_model, intent_model, traj_extractor, intent_extractor, inst_token, frame_index, 3, mode=mode)\n"
   ]
  },
  {
   "cell_type": "code",
   "execution_count": null,
   "metadata": {},
   "outputs": [],
   "source": [
    "colors = ['darkviolet', 'C1', 'green']\n",
    "intent_offsets = [[-50, 0], [-30, -30], [10, 30]]\n",
    "\n",
    "draw_prediction(multimodal_prediction, inst_centric_view,\n",
    "                colors, intent_offsets)\n"
   ]
  },
  {
   "cell_type": "markdown",
   "metadata": {},
   "source": [
    "# Example 8"
   ]
  },
  {
   "cell_type": "code",
   "execution_count": null,
   "metadata": {},
   "outputs": [],
   "source": [
    "scene = ds.get('scene', ds.list_scenes()[0])\n",
    "frame_index = 9000\n",
    "frame = ds.get_future_frames(scene['first_frame'], timesteps=9001)[frame_index]\n",
    "# inst_token = frame['instances'][6]\n",
    "inst_token = ds.get_inst_at_location(frame_token=frame['frame_token'], coords=[35, 65])[\n",
    "    'instance_token']\n"
   ]
  },
  {
   "cell_type": "code",
   "execution_count": null,
   "metadata": {},
   "outputs": [],
   "source": [
    "multimodal_prediction, inst_centric_view = predict_multimodal(\n",
    "    ds, traj_model, intent_model, traj_extractor, intent_extractor, inst_token, frame_index, 3, mode=mode)\n"
   ]
  },
  {
   "cell_type": "code",
   "execution_count": null,
   "metadata": {},
   "outputs": [],
   "source": [
    "colors = ['darkviolet', 'C1', 'green']\n",
    "intent_offsets = [[-50, 0], [-30, -20], [-30, -20]]\n",
    "\n",
    "draw_prediction(multimodal_prediction, inst_centric_view,\n",
    "                colors, intent_offsets)\n"
   ]
  },
  {
   "cell_type": "code",
   "execution_count": null,
   "metadata": {},
   "outputs": [],
   "source": []
  }
 ],
 "metadata": {
  "interpreter": {
   "hash": "916dbcbb3f70747c44a77c7bcd40155683ae19c65e1c03b4aa3499c5328201f1"
  },
  "kernelspec": {
   "display_name": "Python 3.8.10 64-bit",
   "language": "python",
   "name": "python3"
  },
  "language_info": {
   "codemirror_mode": {
    "name": "ipython",
    "version": 3
   },
   "file_extension": ".py",
   "mimetype": "text/x-python",
   "name": "python",
   "nbconvert_exporter": "python",
   "pygments_lexer": "ipython3",
   "version": "3.9.18"
  },
  "orig_nbformat": 4
 },
 "nbformat": 4,
 "nbformat_minor": 2
}
