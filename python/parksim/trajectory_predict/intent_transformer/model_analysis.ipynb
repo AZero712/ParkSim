{
 "cells": [
  {
   "cell_type": "code",
   "execution_count": 2,
   "metadata": {},
   "outputs": [],
   "source": [
    "import torch\n",
    "from torch import nn\n",
    "from torch.utils.data import DataLoader\n",
    "from torchvision import transforms\n",
    "\n",
    "import pandas as pd\n",
    "import seaborn as sns\n",
    "import matplotlib.pyplot as plt\n",
    "import numpy as np\n",
    "\n",
    "DEVICE = \"cuda\" if torch.cuda.is_available() else \"cpu\"\n",
    "sns.set_theme(style=\"darkgrid\")"
   ]
  },
  {
   "cell_type": "markdown",
   "metadata": {},
   "source": [
    "# Transformer with Intent"
   ]
  },
  {
   "cell_type": "code",
   "execution_count": null,
   "metadata": {},
   "outputs": [],
   "source": [
    "from parksim.trajectory_predict.intent_transformer.network import TrajectoryPredictorWithIntent\n",
    "from parksim.trajectory_predict.intent_transformer.dataset import IntentTransformerDataset"
   ]
  },
  {
   "cell_type": "code",
   "execution_count": null,
   "metadata": {},
   "outputs": [],
   "source": [
    "dataset_nums = ['../data/DJI_0022']\n",
    "dataset = IntentTransformerDataset(\n",
    "    dataset_nums, img_transform=transforms.ToTensor())\n",
    "dataloader = DataLoader(dataset, batch_size=32, num_workers=12)\n",
    "\n",
    "loss_fn = nn.L1Loss(reduction='none')\n"
   ]
  },
  {
   "cell_type": "code",
   "execution_count": null,
   "metadata": {},
   "outputs": [],
   "source": [
    "model_paths = {\"150\": \"models/Intent_Transformer_03-19-2022_19-23-15.pth\",\n",
    "               \"350\": \"models/Intent_Transformer_03-19-2022_19-47-58.pth\",\n",
    "               \"500\": \"models/Intent_Transformer_03-19-2022_20-06-34.pth\",\n",
    "               \"all(600)\": \"models/Intent_Transformer_all_data_03-19-2022_20-19-01.pth\"}\n"
   ]
  },
  {
   "cell_type": "code",
   "execution_count": null,
   "metadata": {},
   "outputs": [],
   "source": [
    "def get_error_vs_time(model, dataloader, loss_fn, feature_size=3, steps=10):\n",
    "    model.eval()\n",
    "\n",
    "    pos_error = torch.empty(size=(feature_size, steps))\n",
    "    ang_error = torch.empty(size=(feature_size, steps))\n",
    "\n",
    "    with torch.no_grad():\n",
    "        for batch in dataloader:\n",
    "            img, X, intent, y_in, y_label = batch\n",
    "            img = img.to(DEVICE).float()\n",
    "            X = X.to(DEVICE).float()\n",
    "            intent = intent.to(DEVICE).float()\n",
    "            y_in = y_in.to(DEVICE).float()\n",
    "            y_label = y_label.to(DEVICE).float()\n",
    "            tgt_mask = model.transformer.generate_square_subsequent_mask(\n",
    "                y_in.shape[1]).to(DEVICE).float()\n",
    "            pred = model(img, X, intent, y_in, tgt_mask)\n",
    "            loss = loss_fn(pred, y_label)\n",
    "\n",
    "            pos_error = torch.cat(\n",
    "                [pos_error, torch.sqrt(loss[:, :, 0]**2 + loss[:, :, 1]**2).detach()])\n",
    "            ang_error = torch.cat([ang_error, loss[:, :, 2].detach()])\n",
    "\n",
    "    return pos_error.numpy(), ang_error.numpy()\n"
   ]
  },
  {
   "cell_type": "code",
   "execution_count": null,
   "metadata": {},
   "outputs": [],
   "source": [
    "all_error = []\n",
    "dt = 0.4\n",
    "\n",
    "for name, path in model_paths.items():\n",
    "    print(f'Getting statistics for model {name}')\n",
    "\n",
    "    model = TrajectoryPredictorWithIntent()\n",
    "    model_state = torch.load(path, map_location=DEVICE)\n",
    "    model.load_state_dict(model_state)\n",
    "    model.eval().to(DEVICE)\n",
    "\n",
    "    pos_error, ang_error = get_error_vs_time(model, dataloader, loss_fn, steps=10)\n",
    "\n",
    "    timesteps = dt*np.arange(1, pos_error.shape[1]+1)\n",
    "    for i, time in enumerate(timesteps):\n",
    "        for error in pos_error[:, i]:\n",
    "            all_error.append([name, time, 'Positional', error])\n",
    "        for error in ang_error[:, i]:\n",
    "            all_error.append([name, time, 'Angular', error])\n",
    "\n",
    "error_df = pd.DataFrame(\n",
    "    all_error, columns=['Epoch', 'Timestep', 'Type', 'Error'])\n",
    "error_df = error_df[abs(error_df['Error']) < 100] # Outlier removal\n",
    "error_df['Epoch'] = pd.Categorical(error_df.Epoch)\n",
    "error_df['Type'] = pd.Categorical(error_df.Type)"
   ]
  },
  {
   "cell_type": "code",
   "execution_count": null,
   "metadata": {},
   "outputs": [],
   "source": [
    "fig, axes = plt.subplots(1, 2, figsize=(14, 7))\n",
    "\n",
    "sns.lineplot(x=\"Timestep\", y=\"Error\", hue=\"Epoch\", ci=95, style=\"Epoch\",\n",
    "             markers=True, dashes=False, data=error_df[error_df[\"Type\"] == \"Positional\"], ax=axes[0])\n",
    "sns.lineplot(x=\"Timestep\", y=\"Error\", hue=\"Epoch\", ci=95, style=\"Epoch\",\n",
    "             markers=True, dashes=False, data=error_df[error_df[\"Type\"] == \"Angular\"], ax=axes[1])\n",
    "\n",
    "axes[0].set_title('Positional Error (m)')\n",
    "axes[1].set_title('Angular Error (rad)')"
   ]
  }
 ],
 "metadata": {
  "interpreter": {
   "hash": "427b3bd9b9dd19d37481672008534dffed4e74dc6f302a9b19947aa559295010"
  },
  "kernelspec": {
   "display_name": "Python 3.8.10 ('park-sim')",
   "language": "python",
   "name": "python3"
  },
  "language_info": {
   "codemirror_mode": {
    "name": "ipython",
    "version": 3
   },
   "file_extension": ".py",
   "mimetype": "text/x-python",
   "name": "python",
   "nbconvert_exporter": "python",
   "pygments_lexer": "ipython3",
   "version": "3.8.10"
  },
  "orig_nbformat": 4
 },
 "nbformat": 4,
 "nbformat_minor": 2
}
