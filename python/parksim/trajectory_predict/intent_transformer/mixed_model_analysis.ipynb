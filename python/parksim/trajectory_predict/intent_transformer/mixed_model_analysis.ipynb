{
 "cells": [
  {
   "cell_type": "code",
   "execution_count": 4,
   "metadata": {},
   "outputs": [],
   "source": [
    "import torch\n",
    "from torch import nn\n",
    "from torch.utils.data import DataLoader\n",
    "from torchvision import transforms\n",
    "\n",
    "import pandas as pd\n",
    "import seaborn as sns\n",
    "import matplotlib.pyplot as plt\n",
    "import numpy as np\n",
    "from tqdm import tqdm\n",
    "\n",
    "DEVICE = \"cuda\" if torch.cuda.is_available() else \"cpu\"\n",
    "sns.set_theme(style=\"darkgrid\")"
   ]
  },
  {
   "cell_type": "markdown",
   "metadata": {},
   "source": [
    "# Transformer with Intent"
   ]
  },
  {
   "cell_type": "code",
   "execution_count": 5,
   "metadata": {},
   "outputs": [],
   "source": [
    "from parksim.trajectory_predict.intent_transformer.network import TrajectoryPredictorWithIntent\n",
    "from parksim.trajectory_predict.intent_transformer.dataset import IntentTransformerDataset"
   ]
  },
  {
   "cell_type": "code",
   "execution_count": 6,
   "metadata": {},
   "outputs": [],
   "source": [
    "def build_trajectory_predict_from_config(config, input_shape=(3, 100, 100)):\n",
    "    model = TrajectoryPredictorWithIntent(\n",
    "        input_shape=input_shape,\n",
    "        dropout=config['dropout'], \n",
    "        num_heads=config['num_heads'], \n",
    "        num_encoder_layers=config['num_encoder_layers'], \n",
    "        num_decoder_layers=config['num_decoder_layers'], \n",
    "        dim_model=config['dim_model'],\n",
    "        d_hidden=config['d_hidden'],\n",
    "        num_conv_layers=config['num_conv_layers']\n",
    "    )\n",
    "    return model"
   ]
  },
  {
   "cell_type": "code",
   "execution_count": 7,
   "metadata": {},
   "outputs": [],
   "source": [
    "# dataset_nums = [\"../data/DJI_\" + str(i).zfill(4) for i in range(22, 23)]\n",
    "slow_dataset_nums = [\"../data/DJI_0022slow\"]\n",
    "fast_dataset_nums = [\"../data/DJI_0022fast\"]\n",
    "#seed=42\n",
    "#val_proportion = 0.1\n",
    "dataset_slow = IntentTransformerDataset(slow_dataset_nums, img_transform=transforms.ToTensor())\n",
    "#val_size = int(val_proportion * len(dataset))\n",
    "#train_size = len(dataset) - val_size\n",
    "#validation_dataset, _ = torch.utils.data.random_split(dataset, [val_size, train_size], generator=torch.Generator().manual_seed(seed))\n",
    "dataloader_slow = DataLoader(dataset_slow, batch_size=32, num_workers=1)\n",
    "\n",
    "dataset_fast = IntentTransformerDataset(fast_dataset_nums, img_transform=transforms.ToTensor())\n",
    "dataloader_fast = DataLoader(dataset_fast, batch_size=32, num_workers=1)\n",
    "loss_fn = nn.L1Loss(reduction='none').to(DEVICE)\n"
   ]
  },
  {
   "cell_type": "code",
   "execution_count": 12,
   "metadata": {},
   "outputs": [],
   "source": [
    "model_paths_slow = {\"all\": {\n",
    "    \"path\": \"models/Intent_Transformer_04-13-2022_02-25-37.pth\",\n",
    "    # \"path\": \"models/Trajectory-Intent-4-10-22.pth\",\n",
    "    \"config\" : {\n",
    "            'dim_model' : 52,\n",
    "            'num_heads' : 4,\n",
    "            'dropout' : 0.15,\n",
    "            'num_encoder_layers' : 16,\n",
    "            'num_decoder_layers' : 8,\n",
    "            'd_hidden' : 256,\n",
    "            'num_conv_layers' : 2,\n",
    "            'opt' : 'SGD',\n",
    "            'lr' : 0.0025,\n",
    "            'loss' : 'L1'\n",
    "        }\n",
    "\n",
    "    }}\n",
    "\n",
    "model_paths_fast = {\"all\": {\n",
    "    \"path\": \"models/Intent_Transformer_04-13-2022_10-02-18.pth\",\n",
    "    # \"path\": \"models/Trajectory-Intent-4-10-22.pth\",\n",
    "    \"config\" : {\n",
    "            'dim_model' : 52,\n",
    "            'num_heads' : 4,\n",
    "            'dropout' : 0.15,\n",
    "            'num_encoder_layers' : 16,\n",
    "            'num_decoder_layers' : 8,\n",
    "            'd_hidden' : 256,\n",
    "            'num_conv_layers' : 2,\n",
    "            'opt' : 'SGD',\n",
    "            'lr' : 0.0025,\n",
    "            'loss' : 'L1'\n",
    "        }\n",
    "\n",
    "    }}"
   ]
  },
  {
   "cell_type": "code",
   "execution_count": 9,
   "metadata": {},
   "outputs": [],
   "source": [
    "\n",
    "\n",
    "def predict(model, input_sequence, img, intent, y_in, output_sequence_length):\n",
    "    model.eval()\n",
    "    START_TOKEN = input_sequence[:, -1][:, None, :]\n",
    "\n",
    "    delta_state = -1 * input_sequence[:, -2][:, None, :]\n",
    "    y_input = torch.cat([START_TOKEN, delta_state], dim=1)\n",
    "    #y_input = START_TOKEN[None,None,:].repeat(input_sequence.shape[0], 1, 1)\n",
    "    for _ in range(output_sequence_length):\n",
    "        # Get source mask\n",
    "        tgt_mask = model.transformer.generate_square_subsequent_mask(y_input.size(1)).to(DEVICE).float()\n",
    "        pred = model(img, input_sequence, intent, y_input, tgt_mask)\n",
    "        #pred = pred.permute(1, 0, 2)\n",
    "        #print(pred)\n",
    "        next_item = pred[:, -1][:, None, :]\n",
    "        # Concatenate previous input with predicted best word\n",
    "        y_input = torch.cat((y_input, next_item), dim=1)\n",
    "    return y_input[:,1:]\n",
    "\n",
    "def get_error_vs_time(model, dataloader, loss_fn, feature_size=3, steps=10):\n",
    "    model.eval()\n",
    "\n",
    "    pos_error = torch.empty(size=(feature_size, steps)).to(DEVICE)\n",
    "    ang_error = torch.empty(size=(feature_size, steps)).to(DEVICE)\n",
    "\n",
    "    with torch.no_grad():\n",
    "        for batch in tqdm(dataloader):\n",
    "            img, X, intent, y_in, y_label = batch\n",
    "            img = img.to(DEVICE).float()\n",
    "            X = X.to(DEVICE).float()\n",
    "            intent = intent.to(DEVICE).float()\n",
    "            y_in = y_in.to(DEVICE).float()\n",
    "            y_label = y_label.to(DEVICE).float()\n",
    "            tgt_mask = model.transformer.generate_square_subsequent_mask(\n",
    "                y_in.shape[1]).to(DEVICE).float()\n",
    "            #pred = model(img, X, intent, y_in, tgt_mask)\n",
    "            pred = predict(model, X, img, intent, y_in, 9)\n",
    "            #pred2 = model(img, X, intent, y_in, tgt_mask)[:, :1]\n",
    "            loss = loss_fn(pred, y_label)\n",
    "\n",
    "            pos_error = torch.cat(\n",
    "                [pos_error, torch.sqrt(loss[:, :, 0]**2 + loss[:, :, 1]**2).detach()])\n",
    "            ang_error = torch.cat([ang_error, loss[:, :, 2].detach()])\n",
    "\n",
    "    return pos_error.cpu().numpy(), ang_error.cpu().numpy()\n"
   ]
  },
  {
   "cell_type": "code",
   "execution_count": 13,
   "metadata": {},
   "outputs": [
    {
     "name": "stdout",
     "output_type": "stream",
     "text": [
      "Getting statistics for model all\n"
     ]
    },
    {
     "name": "stderr",
     "output_type": "stream",
     "text": [
      "100%|██████████| 170/170 [00:34<00:00,  4.87it/s]\n"
     ]
    },
    {
     "name": "stdout",
     "output_type": "stream",
     "text": [
      "Getting statistics for model all\n"
     ]
    },
    {
     "name": "stderr",
     "output_type": "stream",
     "text": [
      "100%|██████████| 105/105 [00:21<00:00,  4.95it/s]\n"
     ]
    }
   ],
   "source": [
    "all_error = []\n",
    "dt = 0.4\n",
    "\n",
    "for name, model_info in model_paths_slow.items():\n",
    "    print(f'Getting statistics for model {name}')\n",
    "\n",
    "    model = build_trajectory_predict_from_config(model_info['config'])\n",
    "    model_state = torch.load(model_info['path'], map_location=DEVICE)\n",
    "    model.load_state_dict(model_state)\n",
    "    model.eval().to(DEVICE)\n",
    "\n",
    "    pos_error, ang_error = get_error_vs_time(model, dataloader_slow, loss_fn, steps=10)\n",
    "\n",
    "    timesteps = dt*np.arange(1, pos_error.shape[1]+1)\n",
    "    for i, time in enumerate(timesteps):\n",
    "        for error in pos_error[:, i]:\n",
    "            all_error.append([name, time, 'Positional', error])\n",
    "        for error in ang_error[:, i]:\n",
    "            all_error.append([name, time, 'Angular', error])\n",
    "\n",
    "for name, model_info in model_paths_fast.items():\n",
    "    print(f'Getting statistics for model {name}')\n",
    "\n",
    "    model = build_trajectory_predict_from_config(model_info['config'])\n",
    "    model_state = torch.load(model_info['path'], map_location=DEVICE)\n",
    "    model.load_state_dict(model_state)\n",
    "    model.eval().to(DEVICE)\n",
    "\n",
    "    pos_error, ang_error = get_error_vs_time(model, dataloader_fast, loss_fn, steps=10)\n",
    "\n",
    "    timesteps = dt*np.arange(1, pos_error.shape[1]+1)\n",
    "    for i, time in enumerate(timesteps):\n",
    "        for error in pos_error[:, i]:\n",
    "            all_error.append([name, time, 'Positional', error])\n",
    "        for error in ang_error[:, i]:\n",
    "            all_error.append([name, time, 'Angular', error])\n",
    "\n",
    "error_df = pd.DataFrame(\n",
    "    all_error, columns=['Epoch', 'Timestep', 'Type', 'Error'])\n",
    "error_df = error_df[abs(error_df['Error']) < 100] # Outlier removal\n",
    "error_df['Epoch'] = pd.Categorical(error_df.Epoch)\n",
    "error_df['Type'] = pd.Categorical(error_df.Type)"
   ]
  },
  {
   "cell_type": "code",
   "execution_count": 14,
   "metadata": {},
   "outputs": [
    {
     "data": {
      "text/plain": [
       "Text(0.5, 1.0, 'Angular Error (rad)')"
      ]
     },
     "execution_count": 14,
     "metadata": {},
     "output_type": "execute_result"
    },
    {
     "data": {
      "image/png": "[encoded data removed]",
      "text/plain": [
       "<Figure size 1008x504 with 2 Axes>"
      ]
     },
     "metadata": {},
     "output_type": "display_data"
    }
   ],
   "source": [
    "import matplotlib.pyplot as plt\n",
    "fig, axes = plt.subplots(1, 2, figsize=(14, 7))\n",
    "\n",
    "sns.lineplot(x=\"Timestep\", y=\"Error\", hue=\"Epoch\", ci=95, style=\"Epoch\",\n",
    "             markers=True, dashes=False, data=error_df[error_df[\"Type\"] == \"Positional\"], ax=axes[0])\n",
    "sns.lineplot(x=\"Timestep\", y=\"Error\", hue=\"Epoch\", ci=95, style=\"Epoch\",\n",
    "             markers=True, dashes=False, data=error_df[error_df[\"Type\"] == \"Angular\"], ax=axes[1])\n",
    "\n",
    "axes[0].set_title('Positional Error (m)')\n",
    "axes[1].set_title('Angular Error (rad)')"
   ]
  },
  {
   "cell_type": "code",
   "execution_count": null,
   "metadata": {},
   "outputs": [],
   "source": []
  }
 ],
 "metadata": {
  "interpreter": {
   "hash": "427b3bd9b9dd19d37481672008534dffed4e74dc6f302a9b19947aa559295010"
  },
  "kernelspec": {
   "display_name": "Python 3.8.10 ('park-sim')",
   "language": "python",
   "name": "python3"
  },
  "language_info": {
   "codemirror_mode": {
    "name": "ipython",
    "version": 3
   },
   "file_extension": ".py",
   "mimetype": "text/x-python",
   "name": "python",
   "nbconvert_exporter": "python",
   "pygments_lexer": "ipython3",
   "version": "3.8.10"
  },
  "orig_nbformat": 4
 },
 "nbformat": 4,
 "nbformat_minor": 2
}
