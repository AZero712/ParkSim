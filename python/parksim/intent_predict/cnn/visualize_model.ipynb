{
 "cells": [
  {
   "cell_type": "code",
   "execution_count": 1,
   "metadata": {},
   "outputs": [],
   "source": [
    "%load_ext autoreload\n",
    "%autoreload 2\n",
    "\n",
    "import torch\n",
    "from torchvision import transforms\n",
    "from torch.utils.data import DataLoader\n",
    "\n",
    "from parksim.intent_predict.cnn.utils import ImgDataset\n",
    "from parksim.intent_predict.cnn.network import SimpleCNN, KeypointNet\n",
    "\n",
    "from IPython.display import display\n",
    "\n",
    "import numpy as np\n",
    "from PIL import Image, ImageDraw"
   ]
  },
  {
   "cell_type": "markdown",
   "metadata": {},
   "source": [
    "# Img2Img Model"
   ]
  },
  {
   "cell_type": "code",
   "execution_count": 2,
   "metadata": {},
   "outputs": [
    {
     "data": {
      "text/plain": [
       "SimpleCNN(\n",
       "  (layer1): Sequential(\n",
       "    (0): Conv2d(3, 6, kernel_size=(7, 7), stride=(2, 2), padding=(3, 3))\n",
       "    (1): ReLU(inplace=True)\n",
       "    (2): BatchNorm2d(6, eps=1e-05, momentum=0.1, affine=True, track_running_stats=True)\n",
       "  )\n",
       "  (layer2): Sequential(\n",
       "    (0): Conv2d(6, 16, kernel_size=(3, 3), stride=(1, 1), padding=(1, 1))\n",
       "    (1): ReLU(inplace=True)\n",
       "    (2): BatchNorm2d(16, eps=1e-05, momentum=0.1, affine=True, track_running_stats=True)\n",
       "  )\n",
       "  (layer3): Sequential(\n",
       "    (0): Conv2d(16, 3, kernel_size=(1, 1), stride=(1, 1))\n",
       "    (1): ReLU(inplace=True)\n",
       "    (2): BatchNorm2d(3, eps=1e-05, momentum=0.1, affine=True, track_running_stats=True)\n",
       "  )\n",
       "  (maxpool): MaxPool2d(kernel_size=2, stride=2, padding=0, dilation=1, ceil_mode=False)\n",
       "  (sigmoid): Sigmoid()\n",
       ")"
      ]
     },
     "execution_count": 2,
     "metadata": {},
     "output_type": "execute_result"
    }
   ],
   "source": [
    "model_path = './models/simpleCNN_L3.249_07-12-2021_19-41-06.pth'\n",
    "\n",
    "model = SimpleCNN()\n",
    "model.load_state_dict(torch.load(model_path))\n",
    "model.eval()"
   ]
  },
  {
   "cell_type": "markdown",
   "metadata": {},
   "source": [
    "## Load Data"
   ]
  },
  {
   "cell_type": "code",
   "execution_count": 3,
   "metadata": {},
   "outputs": [],
   "source": [
    "input_transform = transforms.ToTensor()\n",
    "\n",
    "pred_trans = transforms.ToPILImage(mode='L')\n",
    "\n",
    "feature_trans = transforms.ToPILImage(mode='RGB')\n",
    "\n",
    "testset = ImgDataset('./data/DJI_0013', transform=input_transform, target_transform=input_transform)\n",
    "testloader = DataLoader(testset, batch_size=1, shuffle=False)\n",
    "\n",
    "dataiter = iter(testloader)"
   ]
  },
  {
   "cell_type": "markdown",
   "metadata": {},
   "source": [
    "## Predict"
   ]
  },
  {
   "cell_type": "code",
   "execution_count": 32,
   "metadata": {},
   "outputs": [
    {
     "name": "stdout",
     "output_type": "stream",
     "text": [
      "Feature:\n"
     ]
    },
    {
     "data": {
      "image/png": "[encoded data removed]",
      "text/plain": [
       "<PIL.Image.Image image mode=RGB size=400x400 at 0x7F8EFC24C3D0>"
      ]
     },
     "metadata": {},
     "output_type": "display_data"
    },
    {
     "name": "stdout",
     "output_type": "stream",
     "text": [
      "Label:\n"
     ]
    },
    {
     "data": {
      "image/png": "[encoded data removed]",
      "text/plain": [
       "<PIL.Image.Image image mode=L size=100x100 at 0x7F8EFC24CA00>"
      ]
     },
     "metadata": {},
     "output_type": "display_data"
    },
    {
     "name": "stdout",
     "output_type": "stream",
     "text": [
      "Pred\n"
     ]
    },
    {
     "data": {
      "image/png": "[encoded data removed]",
      "text/plain": [
       "<PIL.Image.Image image mode=L size=100x100 at 0x7F8DB3D6DA00>"
      ]
     },
     "metadata": {},
     "output_type": "display_data"
    }
   ],
   "source": [
    "inputs, labels = dataiter.next()\n",
    "\n",
    "preds = model(inputs)\n",
    "\n",
    "# Transform back to image\n",
    "\n",
    "pred_heatmap = pred_trans(preds[0, 0])\n",
    "feature_image = feature_trans(inputs[0])\n",
    "label_heatmap = Image.fromarray(np.floor(labels[0, 0].numpy() * 255).astype('uint8'))\n",
    "\n",
    "# Display\n",
    "print(\"Feature:\")\n",
    "display(feature_image)\n",
    "\n",
    "print(\"Label:\")\n",
    "display(label_heatmap)\n",
    "\n",
    "print(\"Pred\")\n",
    "display(pred_heatmap)"
   ]
  },
  {
   "cell_type": "markdown",
   "metadata": {},
   "source": [
    "# Img2Kpt Model"
   ]
  },
  {
   "cell_type": "code",
   "execution_count": 2,
   "metadata": {},
   "outputs": [
    {
     "data": {
      "text/plain": [
       "KeypointNet(\n",
       "  (layer1): Sequential(\n",
       "    (0): Conv2d(3, 6, kernel_size=(7, 7), stride=(2, 2), padding=(3, 3))\n",
       "    (1): ReLU(inplace=True)\n",
       "    (2): BatchNorm2d(6, eps=1e-05, momentum=0.1, affine=True, track_running_stats=True)\n",
       "    (3): MaxPool2d(kernel_size=2, stride=2, padding=0, dilation=1, ceil_mode=False)\n",
       "  )\n",
       "  (layer2): Sequential(\n",
       "    (0): Conv2d(6, 12, kernel_size=(3, 3), stride=(2, 2), padding=(1, 1))\n",
       "    (1): ReLU(inplace=True)\n",
       "    (2): BatchNorm2d(12, eps=1e-05, momentum=0.1, affine=True, track_running_stats=True)\n",
       "    (3): MaxPool2d(kernel_size=2, stride=2, padding=0, dilation=1, ceil_mode=False)\n",
       "  )\n",
       "  (layer3): Sequential(\n",
       "    (0): Conv2d(12, 16, kernel_size=(3, 3), stride=(2, 2))\n",
       "    (1): ReLU(inplace=True)\n",
       "    (2): BatchNorm2d(16, eps=1e-05, momentum=0.1, affine=True, track_running_stats=True)\n",
       "    (3): MaxPool2d(kernel_size=2, stride=2, padding=0, dilation=1, ceil_mode=False)\n",
       "  )\n",
       "  (fc1): Sequential(\n",
       "    (0): Linear(in_features=576, out_features=120, bias=True)\n",
       "    (1): ReLU(inplace=True)\n",
       "  )\n",
       "  (fc2): Sequential(\n",
       "    (0): Linear(in_features=120, out_features=30, bias=True)\n",
       "    (1): ReLU(inplace=True)\n",
       "  )\n",
       "  (fc3): Sequential(\n",
       "    (0): Linear(in_features=30, out_features=2, bias=True)\n",
       "    (1): Sigmoid()\n",
       "  )\n",
       "  (dropout): Dropout(p=0.2, inplace=False)\n",
       ")"
      ]
     },
     "execution_count": 2,
     "metadata": {},
     "output_type": "execute_result"
    }
   ],
   "source": [
    "model_path = './models/KeypointNet_L0.052_07-28-2021_20-40-11.pth'\n",
    "\n",
    "model = KeypointNet()\n",
    "model.load_state_dict(torch.load(model_path))\n",
    "model.eval()"
   ]
  },
  {
   "cell_type": "markdown",
   "metadata": {},
   "source": [
    "## Load Data"
   ]
  },
  {
   "cell_type": "code",
   "execution_count": 3,
   "metadata": {},
   "outputs": [],
   "source": [
    "input_transform = transforms.ToTensor()\n",
    "\n",
    "feature_trans = transforms.ToPILImage(mode='RGB')\n",
    "\n",
    "def kpt_normalize(keypoint):\n",
    "    return torch.from_numpy(keypoint / 400).float()\n",
    "\n",
    "testset = ImgDataset('./data/DJI_0012', transform=input_transform, target_transform=kpt_normalize)\n",
    "testloader = DataLoader(testset, batch_size=1, shuffle=False)\n",
    "\n",
    "dataiter = iter(testloader)"
   ]
  },
  {
   "cell_type": "markdown",
   "metadata": {},
   "source": [
    "## Predict"
   ]
  },
  {
   "cell_type": "code",
   "execution_count": 4,
   "metadata": {},
   "outputs": [
    {
     "name": "stdout",
     "output_type": "stream",
     "text": [
      "Label: tensor([[0.3725, 0.4875]])\n"
     ]
    },
    {
     "name": "stderr",
     "output_type": "stream",
     "text": [
      "/home/mpc/.virtualenvs/park-sim/lib/python3.8/site-packages/torch/nn/functional.py:718: UserWarning: Named tensors and all their associated APIs are an experimental feature and subject to change. Please do not use them for anything important until they are released as stable. (Triggered internally at  /pytorch/c10/core/TensorImpl.h:1156.)\n",
      "  return torch.max_pool2d(input, kernel_size, stride, padding, dilation, ceil_mode)\n"
     ]
    },
    {
     "data": {
      "image/png": "[encoded data removed]",
      "text/plain": [
       "<PIL.Image.Image image mode=RGB size=400x400 at 0x7F1204036160>"
      ]
     },
     "metadata": {},
     "output_type": "display_data"
    },
    {
     "name": "stdout",
     "output_type": "stream",
     "text": [
      "Pred: tensor([[0.5675, 0.5227]], grad_fn=<SigmoidBackward>)\n"
     ]
    },
    {
     "data": {
      "image/png": "[encoded data removed]",
      "text/plain": [
       "<PIL.Image.Image image mode=RGB size=400x400 at 0x7F10B01C3F40>"
      ]
     },
     "metadata": {},
     "output_type": "display_data"
    }
   ],
   "source": [
    "inputs, labels = dataiter.next()\n",
    "\n",
    "preds = model(inputs)\n",
    "\n",
    "feature_img = feature_trans(inputs[0])\n",
    "\n",
    "label_img = feature_img.copy()\n",
    "\n",
    "label_draw = ImageDraw.Draw(label_img)\n",
    "label_loc = (labels[0] * 400).int()\n",
    "label_draw.ellipse((label_loc[0]-10, label_loc[1]-10, label_loc[0]+10, label_loc[1]+10), fill=(255, 128, 0))\n",
    "\n",
    "\n",
    "pred_img = feature_img.copy()\n",
    "\n",
    "pred_draw = ImageDraw.Draw(pred_img)\n",
    "pred_loc = (preds[0] * 400).int()\n",
    "pred_draw.ellipse((pred_loc[0]-10, pred_loc[1]-10, pred_loc[0]+10, pred_loc[1]+10), fill=(255, 128, 0))\n",
    "\n",
    "print(\"Label:\", labels)\n",
    "\n",
    "display(label_img)\n",
    "\n",
    "print(\"Pred:\", preds)\n",
    "\n",
    "display(pred_img)"
   ]
  }
 ],
 "metadata": {
  "interpreter": {
   "hash": "939e54f63ce5d9da2f6cdf53bc8804e48e5163cad08e7442df1ae739c5da6183"
  },
  "kernelspec": {
   "display_name": "Python 3.8.10 64-bit ('park-sim': virtualenvwrapper)",
   "name": "python3"
  },
  "language_info": {
   "codemirror_mode": {
    "name": "ipython",
    "version": 3
   },
   "file_extension": ".py",
   "mimetype": "text/x-python",
   "name": "python",
   "nbconvert_exporter": "python",
   "pygments_lexer": "ipython3",
   "version": "3.8.10"
  },
  "orig_nbformat": 4
 },
 "nbformat": 4,
 "nbformat_minor": 2
}
