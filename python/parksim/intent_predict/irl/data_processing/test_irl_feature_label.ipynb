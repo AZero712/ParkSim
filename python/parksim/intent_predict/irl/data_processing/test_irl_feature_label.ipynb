{
 "cells": [
  {
   "cell_type": "code",
   "execution_count": 1,
   "metadata": {},
   "outputs": [],
   "source": [
    "%load_ext autoreload\n",
    "%autoreload 2\n",
    "\n",
    "from pathlib import Path\n",
    "import numpy as np\n",
    "from IPython.display import display\n",
    "\n",
    "from dlp.dataset import Dataset\n",
    "\n",
    "from parksim.intent_predict.irl.data_processing.utils import IrlDataProcessor"
   ]
  },
  {
   "cell_type": "markdown",
   "metadata": {},
   "source": [
    "# Load dataset"
   ]
  },
  {
   "cell_type": "code",
   "execution_count": 2,
   "metadata": {},
   "outputs": [],
   "source": [
    "# Load dataset\n",
    "ds = Dataset()\n",
    "\n",
    "home_path = str(Path.home())\n",
    "ds.load(home_path + '/dlp-dataset/data/DJI_0012')"
   ]
  },
  {
   "cell_type": "code",
   "execution_count": 3,
   "metadata": {},
   "outputs": [],
   "source": [
    "extractor = IrlDataProcessor(ds = ds)"
   ]
  },
  {
   "cell_type": "code",
   "execution_count": 5,
   "metadata": {},
   "outputs": [
    {
     "name": "stdout",
     "output_type": "stream",
     "text": [
      "840d7356e46973280c5e71d628fc3b240bfd040a\n",
      "0a72735ac3b5f6f50bfa50ad8e91ac3e40277854\n"
     ]
    },
    {
     "data": {
      "image/png": "[encoded data removed]",
      "text/plain": [
       "<PIL.Image.Image image mode=RGB size=400x400 at 0x7F6E084A3C40>"
      ]
     },
     "metadata": {},
     "output_type": "display_data"
    }
   ],
   "source": [
    "scene = ds.get('scene', ds.list_scenes()[0])\n",
    "frame = ds.get_future_frames(scene['first_frame'],timesteps=300)[0]\n",
    "inst_token = frame['instances'][0]\n",
    "\n",
    "instance = ds.get('instance', inst_token)\n",
    "current_state = np.array([instance['coords'][0], instance['coords'][1], instance['heading'], instance['speed']])\n",
    "\n",
    "img_frame = extractor.vis.plot_frame(frame['frame_token'])\n",
    "img = extractor.vis.inst_centric(img_frame, inst_token)\n",
    "display(img)"
   ]
  },
  {
   "cell_type": "code",
   "execution_count": 6,
   "metadata": {},
   "outputs": [],
   "source": [
    "agent_centers = extractor.detect_center(inst_token, 'agent')\n",
    "\n",
    "for center_ground in agent_centers:\n",
    "    print(center_ground)\n",
    "\n",
    "    local_offset = extractor.compute_relative_offset(inst_token, center_ground)\n",
    "    print(local_offset)\n",
    "\n",
    "    speed = extractor.get_agent_speed(inst_token, center_ground)\n",
    "    print(speed)"
   ]
  },
  {
   "cell_type": "code",
   "execution_count": 7,
   "metadata": {},
   "outputs": [
    {
     "name": "stdout",
     "output_type": "stream",
     "text": [
      "[69.73367049 53.16821141]\n",
      "[-14.52353058  15.79412231]\n",
      "36.38942766408895 -0.23982829501106304\n",
      "nearby_agents: 0\n",
      "[79.62742351 71.17990367]\n",
      "[ 5.33529816 10.50882874]\n",
      "7.539999999999992 -0.23982829501106304\n",
      "nearby_agents: 0\n",
      "[87.48561819 71.17756824]\n",
      "[7.21764832 2.87941284]\n",
      "0 0\n",
      "nearby_agents: 0\n",
      "[87.83579183 58.67578426]\n",
      "[-4.83529358 -0.45882263]\n",
      "0 0\n",
      "nearby_agents: 0\n",
      "[100.83575297  58.67567075]\n",
      "[ -1.71764526 -13.07941132]\n",
      "13.0 0.23982829501106304\n",
      "nearby_agents: 0\n",
      "[100.82685788  53.17006508]\n",
      "[ -7.0647049  -14.39117584]\n",
      "46.40365249587791 -0.23982829501106304\n",
      "nearby_agents: 0\n",
      "[103.44630046  53.15311858]\n",
      "[ -6.45294037 -16.93823509]\n",
      "49.0036524958779 -0.23982829501106304\n",
      "nearby_agents: 0\n",
      "[100.83569047  41.31005049]\n",
      "[-18.57647047 -17.24411774]\n",
      "46.40365249587791 -0.23982829501106304\n",
      "nearby_agents: 0\n",
      "[106.026063    58.66589584]\n",
      "[ -0.48235168 -18.12058811]\n",
      "18.200000000000003 0.23982829501106304\n",
      "nearby_agents: 0\n",
      "[102.84876204  41.30353941]\n",
      "[-18.1 -19.2]\n",
      "49.0036524958779 -0.23982829501106304\n",
      "nearby_agents: 0\n"
     ]
    }
   ],
   "source": [
    "spot_centers = extractor.detect_center(inst_token, 'spot')\n",
    "\n",
    "thres = 3.5\n",
    "\n",
    "for center_ground in spot_centers:\n",
    "    print(center_ground)\n",
    "\n",
    "    local_offset = extractor.compute_relative_offset(inst_token, center_ground)\n",
    "    print(local_offset)\n",
    "\n",
    "    astar_dist, astar_dir, astar_graph = extractor.compute_Astar_dist_dir(inst_token, center_ground)\n",
    "    print(astar_dist, astar_dir)\n",
    "\n",
    "    nearby_agents = 0\n",
    "    for center_agent in agent_centers:\n",
    "        dist = astar_graph.dist_to_graph(center_agent)\n",
    "        if dist < thres:\n",
    "            nearby_agents += 1\n",
    "\n",
    "    print(\"nearby_agents:\", nearby_agents)"
   ]
  },
  {
   "cell_type": "code",
   "execution_count": 8,
   "metadata": {},
   "outputs": [
    {
     "name": "stdout",
     "output_type": "stream",
     "text": [
      "[0. 0. 0. 1. 0. 0. 0. 0. 0. 0.]\n"
     ]
    }
   ],
   "source": [
    "label = extractor.get_intent_label(inst_token, spot_centers)\n",
    "print(label)"
   ]
  }
 ],
 "metadata": {
  "interpreter": {
   "hash": "bf1f7d69d74092b8d9b3a9641c423b1c0e214ac9c7b2fd18417a472afea849ea"
  },
  "kernelspec": {
   "display_name": "Python 3.8.10 64-bit ('park-sim': virtualenv)",
   "name": "python3"
  },
  "language_info": {
   "codemirror_mode": {
    "name": "ipython",
    "version": 3
   },
   "file_extension": ".py",
   "mimetype": "text/x-python",
   "name": "python",
   "nbconvert_exporter": "python",
   "pygments_lexer": "ipython3",
   "version": "3.8.10"
  },
  "orig_nbformat": 4
 },
 "nbformat": 4,
 "nbformat_minor": 2
}
