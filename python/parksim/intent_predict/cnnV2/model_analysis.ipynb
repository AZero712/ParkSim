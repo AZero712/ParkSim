{
 "cells": [
  {
   "cell_type": "code",
   "execution_count": 1,
   "metadata": {},
   "outputs": [],
   "source": [
    "import torch\n",
    "from parksim.intent_predict.cnnV2.network import SimpleCNN, RegularizedCNN, SmallRegularizedCNN\n",
    "from parksim.intent_predict.cnnV2.utils import CNNDataset, CNNGroupedDataset\n",
    "from torch.utils.data import DataLoader\n",
    "from torchvision import transforms\n",
    "from tqdm import tqdm\n",
    "\n",
    "import os\n",
    "from datetime import datetime\n",
    "import numpy as np\n",
    "import seaborn as sns\n",
    "import matplotlib.pyplot as plt\n",
    "\n",
    "DEVICE = \"cuda\" if torch.cuda.is_available() else \"cpu\"\n",
    "sns.set_theme(style=\"darkgrid\")"
   ]
  },
  {
   "cell_type": "code",
   "execution_count": 4,
   "metadata": {},
   "outputs": [],
   "source": [
    "\n",
    "def get_predictions(model_path, dji_num):\n",
    "    model = SmallRegularizedCNN()\n",
    "    model_state = torch.load(model_path)\n",
    "    model.load_state_dict(model_state)\n",
    "    model.eval().cuda()\n",
    "    dataset = CNNGroupedDataset(f\"../data/DJI_{dji_num}\", input_transform = transforms.ToTensor())\n",
    "    dataloader = DataLoader(dataset, batch_size=1, num_workers=12)\n",
    "    data_size = len(dataset)\n",
    "    running_top_1_accuracy = 0\n",
    "    running_top_3_accuracy = 0\n",
    "    running_top_5_accuracy = 0\n",
    "    for batch in tqdm(dataloader):\n",
    "        all_img_features, all_non_spatial_features, all_labels = batch\n",
    "        for img_feature, non_spatial_feature, labels in zip(all_img_features, all_non_spatial_features, all_labels):\n",
    "            img_feature = img_feature.cuda()\n",
    "            non_spatial_feature = non_spatial_feature.cuda()\n",
    "            labels = labels.cuda()\n",
    "            num_options = labels.shape[0]\n",
    "            #model.forward(img_feature, non_spatial_feature)\n",
    "            #inputs, labels = data[0].to(device), data[1].to(device)\n",
    "\n",
    "            #optimizer.zero_grad()\n",
    "\n",
    "            preds = model(img_feature, non_spatial_feature)\n",
    "            labels = labels.unsqueeze(1)\n",
    "            label = torch.argmax(labels)\n",
    "            preds = preds.flatten()\n",
    "            preds = torch.topk(preds, min(5, num_options))\n",
    "            pred_indices = preds.indices\n",
    "            if label in pred_indices[:1]:\n",
    "                running_top_1_accuracy += 1 / data_size\n",
    "            if label in pred_indices[:min(3, num_options)]:\n",
    "                running_top_3_accuracy += 1 / data_size\n",
    "            if label in pred_indices[:min(5, num_options)]:\n",
    "                running_top_5_accuracy += 1 / data_size\n",
    "\n",
    "            #print(label, pred_indices)\n",
    "            \n",
    "    print(f\"Top 1 Accuracy: {running_top_1_accuracy}\")\n",
    "    print(f\"Top 3 Accuracy: {running_top_3_accuracy}\")\n",
    "    print(f\"Top 5 Accuracy: {running_top_5_accuracy}\")\n",
    "    return running_top_1_accuracy, running_top_3_accuracy, running_top_5_accuracy"
   ]
  },
  {
   "cell_type": "code",
   "execution_count": 5,
   "metadata": {},
   "outputs": [
    {
     "name": "stderr",
     "output_type": "stream",
     "text": [
      "100%|██████████| 293/293 [00:01<00:00, 154.43it/s]"
     ]
    },
    {
     "name": "stdout",
     "output_type": "stream",
     "text": [
      "Top 1 Accuracy: 0.7542662116040988\n",
      "Top 3 Accuracy: 1.0000000000000069\n",
      "Top 5 Accuracy: 1.0000000000000069\n"
     ]
    },
    {
     "name": "stderr",
     "output_type": "stream",
     "text": [
      "\n"
     ]
    }
   ],
   "source": [
    "top_1, top_3, top_5 = get_predictions('models/SmallRegularizedIntent-4-10-22.pt', \"0021\")"
   ]
  },
  {
   "cell_type": "code",
   "execution_count": null,
   "metadata": {},
   "outputs": [],
   "source": [
    "image_features = np.load('../data/DJI_0021_label_grouped.npy', allow_pickle=True)"
   ]
  },
  {
   "cell_type": "code",
   "execution_count": null,
   "metadata": {},
   "outputs": [
    {
     "name": "stderr",
     "output_type": "stream",
     "text": [
      "/tmp/ipykernel_466505/3448905269.py:4: VisibleDeprecationWarning: Creating an ndarray from ragged nested sequences (which is a list-or-tuple of lists-or-tuples-or ndarrays with different lengths or shapes) is deprecated. If you meant to do this, you must specify 'dtype=object' when creating the ndarray.\n",
      "  all_features = np.array(all_features)\n"
     ]
    },
    {
     "data": {
      "text/plain": [
       "(293,)"
      ]
     },
     "execution_count": 42,
     "metadata": {},
     "output_type": "execute_result"
    }
   ],
   "source": [
    "all_features = []\n",
    "for feat in image_features:\n",
    "    all_features.append(np.array(feat))\n",
    "all_features = np.array(all_features)\n",
    "all_features.shape"
   ]
  },
  {
   "cell_type": "code",
   "execution_count": null,
   "metadata": {},
   "outputs": [],
   "source": [
    "np.save('../data/DJI_0021_label_grouped_test.npy', all_features)"
   ]
  },
  {
   "cell_type": "code",
   "execution_count": null,
   "metadata": {},
   "outputs": [],
   "source": [
    "image_features_test = np.load('../data/DJI_0021_image_feature_grouped_test.npy', allow_pickle=True)"
   ]
  },
  {
   "cell_type": "code",
   "execution_count": null,
   "metadata": {},
   "outputs": [
    {
     "data": {
      "text/plain": [
       "(5, 400, 400, 3)"
      ]
     },
     "execution_count": 45,
     "metadata": {},
     "output_type": "execute_result"
    }
   ],
   "source": [
    "image_features_test[0].shape"
   ]
  },
  {
   "cell_type": "code",
   "execution_count": null,
   "metadata": {},
   "outputs": [],
   "source": []
  },
  {
   "cell_type": "code",
   "execution_count": null,
   "metadata": {},
   "outputs": [],
   "source": []
  },
  {
   "cell_type": "code",
   "execution_count": null,
   "metadata": {},
   "outputs": [],
   "source": []
  },
  {
   "cell_type": "code",
   "execution_count": null,
   "metadata": {},
   "outputs": [],
   "source": []
  },
  {
   "cell_type": "code",
   "execution_count": null,
   "metadata": {},
   "outputs": [],
   "source": []
  },
  {
   "cell_type": "code",
   "execution_count": null,
   "metadata": {},
   "outputs": [],
   "source": []
  },
  {
   "cell_type": "code",
   "execution_count": null,
   "metadata": {},
   "outputs": [],
   "source": []
  },
  {
   "cell_type": "code",
   "execution_count": null,
   "metadata": {},
   "outputs": [],
   "source": []
  },
  {
   "cell_type": "code",
   "execution_count": null,
   "metadata": {},
   "outputs": [],
   "source": []
  },
  {
   "cell_type": "code",
   "execution_count": null,
   "metadata": {},
   "outputs": [],
   "source": []
  },
  {
   "cell_type": "code",
   "execution_count": null,
   "metadata": {},
   "outputs": [],
   "source": []
  },
  {
   "cell_type": "code",
   "execution_count": null,
   "metadata": {},
   "outputs": [],
   "source": []
  },
  {
   "cell_type": "code",
   "execution_count": null,
   "metadata": {},
   "outputs": [],
   "source": []
  },
  {
   "cell_type": "code",
   "execution_count": null,
   "metadata": {},
   "outputs": [],
   "source": []
  },
  {
   "cell_type": "code",
   "execution_count": null,
   "metadata": {},
   "outputs": [],
   "source": []
  },
  {
   "cell_type": "code",
   "execution_count": null,
   "metadata": {},
   "outputs": [],
   "source": []
  },
  {
   "cell_type": "code",
   "execution_count": null,
   "metadata": {},
   "outputs": [],
   "source": []
  },
  {
   "cell_type": "code",
   "execution_count": null,
   "metadata": {},
   "outputs": [],
   "source": []
  },
  {
   "cell_type": "code",
   "execution_count": null,
   "metadata": {},
   "outputs": [],
   "source": []
  }
 ],
 "metadata": {
  "interpreter": {
   "hash": "2dc96b5b63a0566d20f1d1c221cfeffeeaa872bf91876335648e85eec993788b"
  },
  "kernelspec": {
   "display_name": "Python 3.9.6 ('parksim')",
   "language": "python",
   "name": "python3"
  },
  "language_info": {
   "codemirror_mode": {
    "name": "ipython",
    "version": 3
   },
   "file_extension": ".py",
   "mimetype": "text/x-python",
   "name": "python",
   "nbconvert_exporter": "python",
   "pygments_lexer": "ipython3",
   "version": "3.8.10"
  },
  "orig_nbformat": 4
 },
 "nbformat": 4,
 "nbformat_minor": 2
}
