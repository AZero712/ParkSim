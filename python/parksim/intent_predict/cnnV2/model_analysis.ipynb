{
 "cells": [
  {
   "cell_type": "code",
   "execution_count": 1,
   "metadata": {},
   "outputs": [],
   "source": [
    "import torch\n",
    "from parksim.intent_predict.cnnV2.network import SimpleCNN, RegularizedCNN, SmallRegularizedCNN\n",
    "from parksim.intent_predict.cnnV2.utils import CNNDataset, CNNGroupedDataset\n",
    "from torch.utils.data import DataLoader\n",
    "from torchvision import transforms\n",
    "from tqdm import tqdm\n",
    "\n",
    "import os\n",
    "from datetime import datetime\n",
    "import numpy as np\n",
    "import seaborn as sns\n",
    "import matplotlib.pyplot as plt\n",
    "\n",
    "DEVICE = \"cuda\" if torch.cuda.is_available() else \"cpu\"\n",
    "sns.set_theme(style=\"darkgrid\")"
   ]
  },
  {
   "cell_type": "code",
   "execution_count": 2,
   "metadata": {},
   "outputs": [
    {
     "ename": "NameError",
     "evalue": "name 'main' is not defined",
     "output_type": "error",
     "traceback": [
      "\u001b[0;31m---------------------------------------------------------------------------\u001b[0m",
      "\u001b[0;31mNameError\u001b[0m                                 Traceback (most recent call last)",
      "\u001b[0;32m/tmp/ipykernel_466505/2865104739.py\u001b[0m in \u001b[0;36m<module>\u001b[0;34m\u001b[0m\n\u001b[1;32m     43\u001b[0m \u001b[0;34m\u001b[0m\u001b[0m\n\u001b[1;32m     44\u001b[0m \u001b[0;32mif\u001b[0m \u001b[0m__name__\u001b[0m \u001b[0;34m==\u001b[0m \u001b[0;34m'__main__'\u001b[0m\u001b[0;34m:\u001b[0m\u001b[0;34m\u001b[0m\u001b[0;34m\u001b[0m\u001b[0m\n\u001b[0;32m---> 45\u001b[0;31m     \u001b[0mmain\u001b[0m\u001b[0;34m(\u001b[0m\u001b[0;34m)\u001b[0m\u001b[0;34m\u001b[0m\u001b[0;34m\u001b[0m\u001b[0m\n\u001b[0m",
      "\u001b[0;31mNameError\u001b[0m: name 'main' is not defined"
     ]
    }
   ],
   "source": [
    "\n",
    "def get_predictions(model_path, dji_num):\n",
    "    model = SmallRegularizedCNN()\n",
    "    model_state = torch.load(model_path)\n",
    "    model.load_state_dict(model_state)\n",
    "    model.eval().cuda()\n",
    "    dataset = CNNGroupedDataset(f\"../data/DJI_{dji_num}\", input_transform = transforms.ToTensor())\n",
    "    dataloader = DataLoader(dataset, batch_size=32, num_workers=12)\n",
    "    data_size = len(dataset)\n",
    "    running_top_1_accuracy = 0\n",
    "    running_top_3_accuracy = 0\n",
    "    running_top_5_accuracy = 0\n",
    "    for batch in tqdm(dataloader):\n",
    "        for data in batch:\n",
    "            img_feature, non_spatial_feature, labels = data\n",
    "            img_feature = img_feature.cuda()\n",
    "            non_spatial_feature = non_spatial_feature.cuda()\n",
    "            labels = labels.cuda()\n",
    "            num_options = labels.shape[0]\n",
    "            #model.forward(img_feature, non_spatial_feature)\n",
    "            #inputs, labels = data[0].to(device), data[1].to(device)\n",
    "\n",
    "            #optimizer.zero_grad()\n",
    "\n",
    "            preds = model(img_feature, non_spatial_feature)\n",
    "            labels = labels.unsqueeze(1)\n",
    "            label = torch.argmax(labels)\n",
    "            preds = torch.nn.functional.sigmoid(preds)\n",
    "            preds = torch.topk(preds, min(5, num_options))\n",
    "            pred_indices = preds.indices\n",
    "            if label in pred_indices[:1]:\n",
    "                running_top_1_accuracy += 1 / data_size\n",
    "            if label in pred_indices[:min(3, num_options)]:\n",
    "                running_top_3_accuracy += 1 / data_size\n",
    "            if label in pred_indices[:min(5, num_options)]:\n",
    "                running_top_5_accuracy += 1 / data_size\n",
    "\n",
    "            print(label, pred_indices)\n",
    "            \n",
    "    print(f\"Top 1 Accuracy: {running_top_1_accuracy}\")\n",
    "    print(f\"Top 3 Accuracy: {running_top_3_accuracy}\")\n",
    "    print(f\"Top 5 Accuracy: {running_top_5_accuracy}\")\n",
    "    return running_top_1_accuracy, running_top_3_accuracy, running_top_5_accuracy"
   ]
  },
  {
   "cell_type": "code",
   "execution_count": null,
   "metadata": {},
   "outputs": [],
   "source": []
  }
 ],
 "metadata": {
  "interpreter": {
   "hash": "2dc96b5b63a0566d20f1d1c221cfeffeeaa872bf91876335648e85eec993788b"
  },
  "kernelspec": {
   "display_name": "Python 3.9.6 ('parksim')",
   "language": "python",
   "name": "python3"
  },
  "language_info": {
   "codemirror_mode": {
    "name": "ipython",
    "version": 3
   },
   "file_extension": ".py",
   "mimetype": "text/x-python",
   "name": "python",
   "nbconvert_exporter": "python",
   "pygments_lexer": "ipython3",
   "version": "3.8.10"
  },
  "orig_nbformat": 4
 },
 "nbformat": 4,
 "nbformat_minor": 2
}
