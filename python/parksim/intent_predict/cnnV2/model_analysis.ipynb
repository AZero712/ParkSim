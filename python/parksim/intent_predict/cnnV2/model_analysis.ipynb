{
 "cells": [
  {
   "cell_type": "code",
   "execution_count": 3,
   "metadata": {},
   "outputs": [],
   "source": [
    "import torch\n",
    "from parksim.intent_predict.cnnV2.network import SimpleCNN, RegularizedCNN, SmallRegularizedCNN\n",
    "from parksim.intent_predict.cnnV2.utils import CNNDataset\n",
    "from torch.utils.data import DataLoader\n",
    "from torchvision import transforms\n",
    "from tqdm import tqdm\n",
    "\n",
    "import os\n",
    "from datetime import datetime\n",
    "import numpy as np\n",
    "import seaborn as sns\n",
    "import matplotlib.pyplot as plt\n",
    "\n",
    "DEVICE = \"cuda\" if torch.cuda.is_available() else \"cpu\"\n",
    "sns.set_theme(style=\"darkgrid\")"
   ]
  },
  {
   "cell_type": "code",
   "execution_count": null,
   "metadata": {},
   "outputs": [],
   "source": [
    "\n",
    "def get_predictions(model_path, dji_num):\n",
    "    model = SmallRegularizedCNN()\n",
    "    model_state = torch.load(model_path)\n",
    "    model.load_state_dict(model_state)\n",
    "    model.eval().cuda()\n",
    "    dataset = CNNDataset(f\"../data/DJI_{dji_num}\", input_transform = transforms.ToTensor())\n",
    "    dataloader = DataLoader(dataset, batch_size=32, num_workers=12)\n",
    "    running_top_1_accuracy = 0\n",
    "    running_top_3_accuracy = 0\n",
    "    running_top_5_accuracy = 0\n",
    "    for data in tqdm(dataloader):\n",
    "        img_feature, non_spatial_feature, labels = data\n",
    "        img_feature = img_feature.cuda()\n",
    "        non_spatial_feature = non_spatial_feature.cuda()\n",
    "        labels = labels.cuda()\n",
    "        #model.forward(img_feature, non_spatial_feature)\n",
    "        #inputs, labels = data[0].to(device), data[1].to(device)\n",
    "\n",
    "        #optimizer.zero_grad()\n",
    "\n",
    "        preds = model(img_feature, non_spatial_feature)\n",
    "        labels = labels.unsqueeze(1)\n",
    "        #loss = loss_fn(preds, labels)\n",
    "\n",
    "        #loss.backward()\n",
    "        #optimizer.step()\n",
    "\n",
    "        #running_loss += loss.item() / len(trainloader)\n",
    "        preds = torch.nn.functional.sigmoid(preds)\n",
    "        predictions = (preds > 0.5).float()\n",
    "        correct = (predictions == labels).float().sum() / labels.shape[0]\n",
    "        running_accuracy += correct / len(dataloader)\n",
    "    print(f\"Accuracy: {running_accuracy}\")\n",
    "\n",
    "if __name__ == '__main__':\n",
    "    main()"
   ]
  }
 ],
 "metadata": {
  "interpreter": {
   "hash": "2dc96b5b63a0566d20f1d1c221cfeffeeaa872bf91876335648e85eec993788b"
  },
  "kernelspec": {
   "display_name": "Python 3.9.6 ('parksim')",
   "language": "python",
   "name": "python3"
  },
  "language_info": {
   "codemirror_mode": {
    "name": "ipython",
    "version": 3
   },
   "file_extension": ".py",
   "mimetype": "text/x-python",
   "name": "python",
   "nbconvert_exporter": "python",
   "pygments_lexer": "ipython3",
   "version": "3.9.6"
  },
  "orig_nbformat": 4
 },
 "nbformat": 4,
 "nbformat_minor": 2
}
